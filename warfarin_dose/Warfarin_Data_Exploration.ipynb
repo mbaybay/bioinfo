{
 "cells": [
  {
   "cell_type": "markdown",
   "metadata": {},
   "source": [
    "## Assignment 6: Data Exploration & Machine Learning\n",
    "### CS 640: Bioinformatics\n",
    "### Submitted By: Melanie Baybay\n",
    "___\n",
    "\n",
    "** Instructions: ** \n",
    "1. Perform data cleaning.\n",
    "2. Create two subsets for further exploration: a subset for patients with high warfarin dosage\n",
    "(0.2 or more standard deviations above the mean) and a subset for patients with low warfarin\n",
    "dosage (0.2 or more standard deviations below the mean).\n",
    "3. Display aggregate information on the data (ex: summary in R or describe in Pandas. You may\n",
    "group by high/low warfarin dosage.\n",
    "4. Create visualizations of the distributions of key variables by high/low warfarin dosage.\n",
    "5. Create visualizations of a couple of relationships you find interesting between variables\n",
    "(ex: scatter plot colored by high/low warfarin dosage).\n",
    "6. Fit 2 regression models, as described below, to estimate warfarin dosage.\n",
    "7. Fit an SVM model to classify patients into categories of high/low warfarin dosage\n",
    "8. Briefly summarize your findings, including a few sentences comparing the summary results and\n",
    "a plot (ex: Residuals vs Fitted and/or Normal Q-Q) between the two regression models. Also\n",
    "briefly discuss the SVM classifier.\n",
    "\n",
    "**Detail on #6:** \n",
    "Fit a regression model to predict therapeutic warfarin dose. Let the warfarin dosing estimator\n",
    "(http://warfarindosing.org/Source/Home.aspx) be your guide as to which variables you should include in\n",
    "your model. For example, the dataset has two variables for race and two for ethnicity. – you should\n",
    "include one of each. If you inspect the dosing estimator you should be able to decide which variable for\n",
    "race and which for ethnicity you should use. For incorporation of age, you may create a numeric\n",
    "variable that holds age as the number of decades for that patient. (You can use substr for this).\n",
    "For medications the patient is taking, you should include in your prediction Boolean variables to indicate\n",
    "a) whether the patient is taking Amiodarone, and b) whether the patient is taking an Enzyme Inducer\n",
    "(rifampin, carbamazepine, phenytoin or rifampicin). To create these boolean columns you can detect the\n",
    "indicated substring(s) (ex: rifampin or carbamazepine or phenytoin or rifampicin) in the medication\n",
    "column. (You can use grep or str_detect from package stringr).\n",
    "Fit a second regression model that is the same as the first, except replace response variable therapeutic\n",
    "warfarin dose with square root of therapeutic warfarin dose. (ie: use the same predictor variables).\n",
    "\n",
    "---"
   ]
  },
  {
   "cell_type": "markdown",
   "metadata": {},
   "source": [
    "## Setup"
   ]
  },
  {
   "cell_type": "code",
   "execution_count": 1,
   "metadata": {},
   "outputs": [],
   "source": [
    "import pandas as pd\n",
    "import numpy as np\n",
    "import seaborn as sns\n",
    "import matplotlib.pyplot as plt\n",
    "\n",
    "%matplotlib inline"
   ]
  },
  {
   "cell_type": "markdown",
   "metadata": {},
   "source": [
    "## Data Cleaning"
   ]
  },
  {
   "cell_type": "code",
   "execution_count": 2,
   "metadata": {
    "collapsed": true
   },
   "outputs": [],
   "source": [
    "raw_df = pd.read_csv('iwpc_warfarin.txt', sep='\\t')"
   ]
  },
  {
   "cell_type": "code",
   "execution_count": 3,
   "metadata": {},
   "outputs": [
    {
     "data": {
      "text/html": [
       "<div>\n",
       "<style>\n",
       "    .dataframe thead tr:only-child th {\n",
       "        text-align: right;\n",
       "    }\n",
       "\n",
       "    .dataframe thead th {\n",
       "        text-align: left;\n",
       "    }\n",
       "\n",
       "    .dataframe tbody tr th {\n",
       "        vertical-align: top;\n",
       "    }\n",
       "</style>\n",
       "<table border=\"1\" class=\"dataframe\">\n",
       "  <thead>\n",
       "    <tr style=\"text-align: right;\">\n",
       "      <th></th>\n",
       "      <th>PharmGKB Subject ID</th>\n",
       "      <th>PharmGKB Sample ID</th>\n",
       "      <th>Project Site</th>\n",
       "      <th>Gender</th>\n",
       "      <th>Race (Reported)</th>\n",
       "      <th>Race (OMB)</th>\n",
       "      <th>Ethnicity (Reported)</th>\n",
       "      <th>Ethnicity (OMB)</th>\n",
       "      <th>Age</th>\n",
       "      <th>Height (cm)</th>\n",
       "      <th>...</th>\n",
       "      <th>Comorbidities</th>\n",
       "      <th>Medications</th>\n",
       "      <th>Target INR</th>\n",
       "      <th>Estimated Target INR Range Based on Indication</th>\n",
       "      <th>Subject Reached Stable Dose of Warfarin</th>\n",
       "      <th>Therapeutic Dose of Warfarin</th>\n",
       "      <th>INR on Reported Therapeutic Dose of Warfarin</th>\n",
       "      <th>Current Smoker</th>\n",
       "      <th>CYP2C9 consensus</th>\n",
       "      <th>VKORC1 -1639 consensus</th>\n",
       "    </tr>\n",
       "  </thead>\n",
       "  <tbody>\n",
       "    <tr>\n",
       "      <th>0</th>\n",
       "      <td>PA135312261</td>\n",
       "      <td>PA135312629</td>\n",
       "      <td>1</td>\n",
       "      <td>male</td>\n",
       "      <td>White</td>\n",
       "      <td>White</td>\n",
       "      <td>not Hispanic or Latino</td>\n",
       "      <td>not Hispanic or Latino</td>\n",
       "      <td>60 - 69</td>\n",
       "      <td>193.04</td>\n",
       "      <td>...</td>\n",
       "      <td>No Cancer</td>\n",
       "      <td>aspirin; not simvastatin; not amiodarone</td>\n",
       "      <td>2.5</td>\n",
       "      <td>NaN</td>\n",
       "      <td>1.0</td>\n",
       "      <td>49.0</td>\n",
       "      <td>2.60</td>\n",
       "      <td>0.0</td>\n",
       "      <td>*1/*1</td>\n",
       "      <td>A/G</td>\n",
       "    </tr>\n",
       "    <tr>\n",
       "      <th>1</th>\n",
       "      <td>PA135312262</td>\n",
       "      <td>PA135312630</td>\n",
       "      <td>1</td>\n",
       "      <td>female</td>\n",
       "      <td>White</td>\n",
       "      <td>White</td>\n",
       "      <td>not Hispanic or Latino</td>\n",
       "      <td>not Hispanic or Latino</td>\n",
       "      <td>50 - 59</td>\n",
       "      <td>176.53</td>\n",
       "      <td>...</td>\n",
       "      <td>Cancer</td>\n",
       "      <td>not aspirin; not simvastatin; not amiodarone</td>\n",
       "      <td>2.5</td>\n",
       "      <td>NaN</td>\n",
       "      <td>1.0</td>\n",
       "      <td>42.0</td>\n",
       "      <td>2.15</td>\n",
       "      <td>1.0</td>\n",
       "      <td>*1/*1</td>\n",
       "      <td>A/A</td>\n",
       "    </tr>\n",
       "    <tr>\n",
       "      <th>2</th>\n",
       "      <td>PA135312263</td>\n",
       "      <td>PA135312631</td>\n",
       "      <td>1</td>\n",
       "      <td>female</td>\n",
       "      <td>White</td>\n",
       "      <td>White</td>\n",
       "      <td>not Hispanic or Latino</td>\n",
       "      <td>not Hispanic or Latino</td>\n",
       "      <td>40 - 49</td>\n",
       "      <td>162.56</td>\n",
       "      <td>...</td>\n",
       "      <td>No Cancer</td>\n",
       "      <td>not aspirin; not simvastatin; not amiodarone</td>\n",
       "      <td>2.5</td>\n",
       "      <td>NaN</td>\n",
       "      <td>1.0</td>\n",
       "      <td>53.0</td>\n",
       "      <td>1.90</td>\n",
       "      <td>0.0</td>\n",
       "      <td>*1/*1</td>\n",
       "      <td>G/G</td>\n",
       "    </tr>\n",
       "    <tr>\n",
       "      <th>3</th>\n",
       "      <td>PA135312264</td>\n",
       "      <td>PA135312632</td>\n",
       "      <td>1</td>\n",
       "      <td>male</td>\n",
       "      <td>White</td>\n",
       "      <td>White</td>\n",
       "      <td>not Hispanic or Latino</td>\n",
       "      <td>not Hispanic or Latino</td>\n",
       "      <td>60 - 69</td>\n",
       "      <td>182.24</td>\n",
       "      <td>...</td>\n",
       "      <td>No Cancer</td>\n",
       "      <td>not aspirin; not simvastatin; not amiodarone</td>\n",
       "      <td>2.5</td>\n",
       "      <td>NaN</td>\n",
       "      <td>1.0</td>\n",
       "      <td>28.0</td>\n",
       "      <td>2.40</td>\n",
       "      <td>0.0</td>\n",
       "      <td>*1/*1</td>\n",
       "      <td>A/G</td>\n",
       "    </tr>\n",
       "    <tr>\n",
       "      <th>4</th>\n",
       "      <td>PA135312265</td>\n",
       "      <td>PA135312633</td>\n",
       "      <td>1</td>\n",
       "      <td>male</td>\n",
       "      <td>White</td>\n",
       "      <td>White</td>\n",
       "      <td>not Hispanic or Latino</td>\n",
       "      <td>not Hispanic or Latino</td>\n",
       "      <td>50 - 59</td>\n",
       "      <td>167.64</td>\n",
       "      <td>...</td>\n",
       "      <td>No Cancer</td>\n",
       "      <td>not aspirin; not simvastatin; not amiodarone</td>\n",
       "      <td>2.5</td>\n",
       "      <td>NaN</td>\n",
       "      <td>1.0</td>\n",
       "      <td>42.0</td>\n",
       "      <td>1.90</td>\n",
       "      <td>0.0</td>\n",
       "      <td>*1/*3</td>\n",
       "      <td>A/G</td>\n",
       "    </tr>\n",
       "  </tbody>\n",
       "</table>\n",
       "<p>5 rows × 22 columns</p>\n",
       "</div>"
      ],
      "text/plain": [
       "  PharmGKB Subject ID PharmGKB Sample ID  Project Site  Gender  \\\n",
       "0         PA135312261        PA135312629             1    male   \n",
       "1         PA135312262        PA135312630             1  female   \n",
       "2         PA135312263        PA135312631             1  female   \n",
       "3         PA135312264        PA135312632             1    male   \n",
       "4         PA135312265        PA135312633             1    male   \n",
       "\n",
       "  Race (Reported) Race (OMB)    Ethnicity (Reported)         Ethnicity (OMB)  \\\n",
       "0           White      White  not Hispanic or Latino  not Hispanic or Latino   \n",
       "1           White      White  not Hispanic or Latino  not Hispanic or Latino   \n",
       "2           White      White  not Hispanic or Latino  not Hispanic or Latino   \n",
       "3           White      White  not Hispanic or Latino  not Hispanic or Latino   \n",
       "4           White      White  not Hispanic or Latino  not Hispanic or Latino   \n",
       "\n",
       "       Age  Height (cm)           ...            Comorbidities  \\\n",
       "0  60 - 69       193.04           ...                No Cancer   \n",
       "1  50 - 59       176.53           ...                   Cancer   \n",
       "2  40 - 49       162.56           ...                No Cancer   \n",
       "3  60 - 69       182.24           ...                No Cancer   \n",
       "4  50 - 59       167.64           ...                No Cancer   \n",
       "\n",
       "                                    Medications Target INR  \\\n",
       "0      aspirin; not simvastatin; not amiodarone        2.5   \n",
       "1  not aspirin; not simvastatin; not amiodarone        2.5   \n",
       "2  not aspirin; not simvastatin; not amiodarone        2.5   \n",
       "3  not aspirin; not simvastatin; not amiodarone        2.5   \n",
       "4  not aspirin; not simvastatin; not amiodarone        2.5   \n",
       "\n",
       "  Estimated Target INR Range Based on Indication  \\\n",
       "0                                            NaN   \n",
       "1                                            NaN   \n",
       "2                                            NaN   \n",
       "3                                            NaN   \n",
       "4                                            NaN   \n",
       "\n",
       "   Subject Reached Stable Dose of Warfarin Therapeutic Dose of Warfarin  \\\n",
       "0                                      1.0                         49.0   \n",
       "1                                      1.0                         42.0   \n",
       "2                                      1.0                         53.0   \n",
       "3                                      1.0                         28.0   \n",
       "4                                      1.0                         42.0   \n",
       "\n",
       "   INR on Reported Therapeutic Dose of Warfarin  Current Smoker  \\\n",
       "0                                          2.60             0.0   \n",
       "1                                          2.15             1.0   \n",
       "2                                          1.90             0.0   \n",
       "3                                          2.40             0.0   \n",
       "4                                          1.90             0.0   \n",
       "\n",
       "   CYP2C9 consensus  VKORC1 -1639 consensus  \n",
       "0             *1/*1                     A/G  \n",
       "1             *1/*1                     A/A  \n",
       "2             *1/*1                     G/G  \n",
       "3             *1/*1                     A/G  \n",
       "4             *1/*3                     A/G  \n",
       "\n",
       "[5 rows x 22 columns]"
      ]
     },
     "execution_count": 3,
     "metadata": {},
     "output_type": "execute_result"
    }
   ],
   "source": [
    "raw_df.head()"
   ]
  },
  {
   "cell_type": "code",
   "execution_count": 4,
   "metadata": {
    "scrolled": true
   },
   "outputs": [
    {
     "data": {
      "text/plain": [
       "PharmGKB Subject ID                                object\n",
       "PharmGKB Sample ID                                 object\n",
       "Project Site                                        int64\n",
       "Gender                                             object\n",
       "Race (Reported)                                    object\n",
       "Race (OMB)                                         object\n",
       "Ethnicity (Reported)                               object\n",
       "Ethnicity (OMB)                                    object\n",
       "Age                                                object\n",
       "Height (cm)                                       float64\n",
       "Weight (kg)                                       float64\n",
       "Indication for Warfarin Treatment                  object\n",
       "Comorbidities                                      object\n",
       "Medications                                        object\n",
       "Target INR                                        float64\n",
       "Estimated Target INR Range Based on Indication     object\n",
       "Subject Reached Stable Dose of Warfarin           float64\n",
       "Therapeutic Dose of Warfarin                      float64\n",
       "INR on Reported Therapeutic Dose of Warfarin      float64\n",
       "Current Smoker                                    float64\n",
       "CYP2C9 consensus                                   object\n",
       "VKORC1 -1639 consensus                             object\n",
       "dtype: object"
      ]
     },
     "execution_count": 4,
     "metadata": {},
     "output_type": "execute_result"
    }
   ],
   "source": [
    "raw_df.dtypes"
   ]
  },
  {
   "cell_type": "code",
   "execution_count": 5,
   "metadata": {
    "collapsed": true
   },
   "outputs": [],
   "source": [
    "raw_df.drop([\"PharmGKB Subject ID\", \"PharmGKB Sample ID\", \"Project Site\"], axis=1, inplace=True)"
   ]
  },
  {
   "cell_type": "markdown",
   "metadata": {},
   "source": [
    "### Check for Outliers or Incorrect Values"
   ]
  },
  {
   "cell_type": "code",
   "execution_count": 6,
   "metadata": {
    "scrolled": true
   },
   "outputs": [
    {
     "data": {
      "text/plain": [
       "array(['60 - 69', '50 - 59', '40 - 49', '70 - 79', '30 - 39', '80 - 89',\n",
       "       '90+', '20 - 29', '19-Oct', nan], dtype=object)"
      ]
     },
     "execution_count": 6,
     "metadata": {},
     "output_type": "execute_result"
    }
   ],
   "source": [
    "raw_df[\"Age\"].unique()"
   ]
  },
  {
   "cell_type": "code",
   "execution_count": 7,
   "metadata": {
    "collapsed": true
   },
   "outputs": [],
   "source": [
    "raw_df.loc[raw_df.Age == '19-Oct', \"Age\"] = np.nan\n",
    "# raw_df.Age = pd.Categorical(raw_df.Age, ordered=False)"
   ]
  },
  {
   "cell_type": "code",
   "execution_count": 8,
   "metadata": {},
   "outputs": [
    {
     "data": {
      "text/plain": [
       "array(['A/G', 'A/A', 'G/G', nan], dtype=object)"
      ]
     },
     "execution_count": 8,
     "metadata": {},
     "output_type": "execute_result"
    }
   ],
   "source": [
    "raw_df[\"VKORC1 -1639 consensus\"].unique()"
   ]
  },
  {
   "cell_type": "code",
   "execution_count": 9,
   "metadata": {
    "collapsed": true
   },
   "outputs": [],
   "source": [
    "# raw_df[\"VKORC1 -1639 consensus\"] = pd.Categorical(raw_df[\"VKORC1 -1639 consensus\"], ordered=False)"
   ]
  },
  {
   "cell_type": "code",
   "execution_count": 10,
   "metadata": {},
   "outputs": [
    {
     "data": {
      "text/plain": [
       "array(['*1/*1', '*1/*3', '*1/*2', '*2/*2', '*2/*3', '*3/*3', nan, '*1/*5',\n",
       "       '*1/*13', '*1/*14', '*1/*11', '*1/*6'], dtype=object)"
      ]
     },
     "execution_count": 10,
     "metadata": {},
     "output_type": "execute_result"
    }
   ],
   "source": [
    "raw_df[\"CYP2C9 consensus\"].unique()"
   ]
  },
  {
   "cell_type": "code",
   "execution_count": 11,
   "metadata": {
    "collapsed": true
   },
   "outputs": [],
   "source": [
    "# raw_df[\"CYP2C9 consensus\"] = pd.Categorical(raw_df[\"CYP2C9 consensus\"], ordered=False)"
   ]
  },
  {
   "cell_type": "code",
   "execution_count": 12,
   "metadata": {},
   "outputs": [
    {
     "data": {
      "text/plain": [
       "array(['White', 'Other Mixed Race', 'African-American', 'Black',\n",
       "       'Hispanic', 'Japanese', 'Han Chinese', 'other', nan, 'Asian',\n",
       "       'Korean', 'Caucasian', 'Black or African American', 'Other',\n",
       "       'Intermediate', 'Malay', 'Chinese', 'Indian', 'Black Caribbean',\n",
       "       'Other (Hungarian)', 'Other (Black British)', 'Black African',\n",
       "       'Black other'], dtype=object)"
      ]
     },
     "execution_count": 12,
     "metadata": {},
     "output_type": "execute_result"
    }
   ],
   "source": [
    "raw_df[\"Race (Reported)\"].unique()"
   ]
  },
  {
   "cell_type": "code",
   "execution_count": 13,
   "metadata": {},
   "outputs": [
    {
     "data": {
      "text/plain": [
       "array(['White', 'Unknown', 'Black or African American', 'Asian'], dtype=object)"
      ]
     },
     "execution_count": 13,
     "metadata": {},
     "output_type": "execute_result"
    }
   ],
   "source": [
    "raw_df[\"Race (OMB)\"].unique()"
   ]
  },
  {
   "cell_type": "code",
   "execution_count": 14,
   "metadata": {},
   "outputs": [
    {
     "data": {
      "text/plain": [
       "array(['not Hispanic or Latino', 'Latino or Hispanic', 'Hispanic',\n",
       "       'Han Chinese', 'nonHispanic', nan, 'Hispanic or Latino', 'White',\n",
       "       'Israel', 'East Europe', 'North America', 'kurdish and Irak',\n",
       "       'North Africa', 'Arabic Muslim', 'South Africa', 'egypt', 'spain',\n",
       "       'West Europe', 'syria', 'Persia', 'NewZyland', 'Turkey',\n",
       "       'S. America', 'arabic christian', 'spharadic', 'yaman', 'hungary'], dtype=object)"
      ]
     },
     "execution_count": 14,
     "metadata": {},
     "output_type": "execute_result"
    }
   ],
   "source": [
    "raw_df[\"Ethnicity (Reported)\"].unique()"
   ]
  },
  {
   "cell_type": "code",
   "execution_count": 15,
   "metadata": {},
   "outputs": [
    {
     "data": {
      "text/plain": [
       "array(['not Hispanic or Latino', 'Hispanic or Latino', 'Unknown'], dtype=object)"
      ]
     },
     "execution_count": 15,
     "metadata": {},
     "output_type": "execute_result"
    }
   ],
   "source": [
    "raw_df[\"Ethnicity (OMB)\"].unique()"
   ]
  },
  {
   "cell_type": "code",
   "execution_count": 16,
   "metadata": {},
   "outputs": [
    {
     "data": {
      "text/plain": [
       "array(['aspirin; not simvastatin; not amiodarone',\n",
       "       'not aspirin; not simvastatin; not amiodarone',\n",
       "       'not aspirin; simvastatin; not amiodarone', ...,\n",
       "       'Aspirin and/or palvix and/or  dipyridamole; inhibit2c9; amiodarone',\n",
       "       'Aspirin and/or palvix and/or  dipyridamole; inhibit2c9; amiodarone; statin',\n",
       "       'Aspirin and/or palvix and/or  dipyridamole; substrate2c9'], dtype=object)"
      ]
     },
     "execution_count": 16,
     "metadata": {},
     "output_type": "execute_result"
    }
   ],
   "source": [
    "raw_df['Medications'].unique()"
   ]
  },
  {
   "cell_type": "code",
   "execution_count": 17,
   "metadata": {},
   "outputs": [
    {
     "data": {
      "text/plain": [
       "array(['7', '3', '8', '1', '2', '4', '5', '6', '4; 8', '3; 8', '3; 4',\n",
       "       '3; 4; 8', '1; 6', '7; 8', '3; 6', '3; 6; 8', '6; 8', '4; 7',\n",
       "       '3; 4; 6; 8', '1; 3; 8', '3; 4; 6', nan, '3; 4; 7; 8', '4; 6',\n",
       "       '2; 8', '3; 4; 6; 7; 8', '3; 4; 7', '4; 7; 8', '1; 2', '1; 8',\n",
       "       '4; 6; 8', '1; 2; 8', '2; 3; 8', '3; 6; 7', '3; 7', '3; 7; 8',\n",
       "       '1;2', '4;6', '5; 8', '1; 3', '2; 3', '4; 5', '3; 5', '1; 2; 3',\n",
       "       '5; 6', '1; 3; 4; 8', '1; 2; 5; 8', '1 or 2', '4; 3', '3; 2',\n",
       "       '6; 5', '1,2', '2; 6'], dtype=object)"
      ]
     },
     "execution_count": 17,
     "metadata": {},
     "output_type": "execute_result"
    }
   ],
   "source": [
    "raw_df['Indication for Warfarin Treatment'].unique()"
   ]
  },
  {
   "cell_type": "code",
   "execution_count": 18,
   "metadata": {},
   "outputs": [
    {
     "data": {
      "text/html": [
       "<div>\n",
       "<style>\n",
       "    .dataframe thead tr:only-child th {\n",
       "        text-align: right;\n",
       "    }\n",
       "\n",
       "    .dataframe thead th {\n",
       "        text-align: left;\n",
       "    }\n",
       "\n",
       "    .dataframe tbody tr th {\n",
       "        vertical-align: top;\n",
       "    }\n",
       "</style>\n",
       "<table border=\"1\" class=\"dataframe\">\n",
       "  <thead>\n",
       "    <tr style=\"text-align: right;\">\n",
       "      <th></th>\n",
       "      <th>Height (cm)</th>\n",
       "      <th>Weight (kg)</th>\n",
       "      <th>Target INR</th>\n",
       "      <th>Subject Reached Stable Dose of Warfarin</th>\n",
       "      <th>Therapeutic Dose of Warfarin</th>\n",
       "      <th>INR on Reported Therapeutic Dose of Warfarin</th>\n",
       "      <th>Current Smoker</th>\n",
       "    </tr>\n",
       "  </thead>\n",
       "  <tbody>\n",
       "    <tr>\n",
       "      <th>count</th>\n",
       "      <td>4554.000000</td>\n",
       "      <td>5413.000000</td>\n",
       "      <td>1259.000000</td>\n",
       "      <td>5651.000000</td>\n",
       "      <td>5528.000000</td>\n",
       "      <td>4968.000000</td>\n",
       "      <td>3220.000000</td>\n",
       "    </tr>\n",
       "    <tr>\n",
       "      <th>mean</th>\n",
       "      <td>168.047811</td>\n",
       "      <td>77.853057</td>\n",
       "      <td>2.538324</td>\n",
       "      <td>0.960007</td>\n",
       "      <td>30.977873</td>\n",
       "      <td>2.364436</td>\n",
       "      <td>0.139441</td>\n",
       "    </tr>\n",
       "    <tr>\n",
       "      <th>std</th>\n",
       "      <td>10.846051</td>\n",
       "      <td>21.860018</td>\n",
       "      <td>0.198140</td>\n",
       "      <td>0.195960</td>\n",
       "      <td>16.801040</td>\n",
       "      <td>0.464645</td>\n",
       "      <td>0.346460</td>\n",
       "    </tr>\n",
       "    <tr>\n",
       "      <th>min</th>\n",
       "      <td>124.970000</td>\n",
       "      <td>30.000000</td>\n",
       "      <td>1.300000</td>\n",
       "      <td>0.000000</td>\n",
       "      <td>2.100000</td>\n",
       "      <td>0.800000</td>\n",
       "      <td>0.000000</td>\n",
       "    </tr>\n",
       "    <tr>\n",
       "      <th>25%</th>\n",
       "      <td>160.020000</td>\n",
       "      <td>62.000000</td>\n",
       "      <td>2.500000</td>\n",
       "      <td>1.000000</td>\n",
       "      <td>19.530000</td>\n",
       "      <td>2.100000</td>\n",
       "      <td>0.000000</td>\n",
       "    </tr>\n",
       "    <tr>\n",
       "      <th>50%</th>\n",
       "      <td>167.890000</td>\n",
       "      <td>75.000000</td>\n",
       "      <td>2.500000</td>\n",
       "      <td>1.000000</td>\n",
       "      <td>28.000000</td>\n",
       "      <td>2.400000</td>\n",
       "      <td>0.000000</td>\n",
       "    </tr>\n",
       "    <tr>\n",
       "      <th>75%</th>\n",
       "      <td>176.020000</td>\n",
       "      <td>90.000000</td>\n",
       "      <td>2.500000</td>\n",
       "      <td>1.000000</td>\n",
       "      <td>38.500000</td>\n",
       "      <td>2.610000</td>\n",
       "      <td>0.000000</td>\n",
       "    </tr>\n",
       "    <tr>\n",
       "      <th>max</th>\n",
       "      <td>202.000000</td>\n",
       "      <td>237.700000</td>\n",
       "      <td>3.500000</td>\n",
       "      <td>1.000000</td>\n",
       "      <td>315.000000</td>\n",
       "      <td>6.100000</td>\n",
       "      <td>1.000000</td>\n",
       "    </tr>\n",
       "  </tbody>\n",
       "</table>\n",
       "</div>"
      ],
      "text/plain": [
       "       Height (cm)  Weight (kg)   Target INR  \\\n",
       "count  4554.000000  5413.000000  1259.000000   \n",
       "mean    168.047811    77.853057     2.538324   \n",
       "std      10.846051    21.860018     0.198140   \n",
       "min     124.970000    30.000000     1.300000   \n",
       "25%     160.020000    62.000000     2.500000   \n",
       "50%     167.890000    75.000000     2.500000   \n",
       "75%     176.020000    90.000000     2.500000   \n",
       "max     202.000000   237.700000     3.500000   \n",
       "\n",
       "       Subject Reached Stable Dose of Warfarin  Therapeutic Dose of Warfarin  \\\n",
       "count                              5651.000000                   5528.000000   \n",
       "mean                                  0.960007                     30.977873   \n",
       "std                                   0.195960                     16.801040   \n",
       "min                                   0.000000                      2.100000   \n",
       "25%                                   1.000000                     19.530000   \n",
       "50%                                   1.000000                     28.000000   \n",
       "75%                                   1.000000                     38.500000   \n",
       "max                                   1.000000                    315.000000   \n",
       "\n",
       "       INR on Reported Therapeutic Dose of Warfarin  Current Smoker  \n",
       "count                                   4968.000000     3220.000000  \n",
       "mean                                       2.364436        0.139441  \n",
       "std                                        0.464645        0.346460  \n",
       "min                                        0.800000        0.000000  \n",
       "25%                                        2.100000        0.000000  \n",
       "50%                                        2.400000        0.000000  \n",
       "75%                                        2.610000        0.000000  \n",
       "max                                        6.100000        1.000000  "
      ]
     },
     "execution_count": 18,
     "metadata": {},
     "output_type": "execute_result"
    }
   ],
   "source": [
    "raw_df.describe()"
   ]
  },
  {
   "cell_type": "markdown",
   "metadata": {},
   "source": [
    "### Create High & Low Warfarin Dose Subsets"
   ]
  },
  {
   "cell_type": "code",
   "execution_count": 19,
   "metadata": {
    "collapsed": true,
    "scrolled": true
   },
   "outputs": [],
   "source": [
    "def id_dose_type(dose, thres):\n",
    "    if dose >= thres:\n",
    "        return \"High\"\n",
    "    else:\n",
    "        return \"Low\"\n",
    "\n",
    "# thres = .2 standard deviations above the mean\n",
    "thres = 0.2 * raw_df[\"Therapeutic Dose of Warfarin\"].std() + raw_df[\"Therapeutic Dose of Warfarin\"].mean()\n",
    "raw_df[\"Dose Type\"] = raw_df[\"Therapeutic Dose of Warfarin\"].apply(id_dose_type, args=[thres]).astype(\"category\")"
   ]
  },
  {
   "cell_type": "code",
   "execution_count": 20,
   "metadata": {
    "collapsed": true
   },
   "outputs": [],
   "source": [
    "# warf_df[\"Dose_Type_encoded\"] = raw_df[\"Dose Type\"].apply(lambda x: 1 if x == \"High\" else 0)"
   ]
  },
  {
   "cell_type": "markdown",
   "metadata": {},
   "source": [
    "### Data Summaries"
   ]
  },
  {
   "cell_type": "code",
   "execution_count": 21,
   "metadata": {
    "scrolled": true
   },
   "outputs": [
    {
     "data": {
      "text/html": [
       "<div>\n",
       "<style>\n",
       "    .dataframe thead tr:only-child th {\n",
       "        text-align: right;\n",
       "    }\n",
       "\n",
       "    .dataframe thead th {\n",
       "        text-align: left;\n",
       "    }\n",
       "\n",
       "    .dataframe tbody tr th {\n",
       "        vertical-align: top;\n",
       "    }\n",
       "</style>\n",
       "<table border=\"1\" class=\"dataframe\">\n",
       "  <thead>\n",
       "    <tr style=\"text-align: right;\">\n",
       "      <th></th>\n",
       "      <th>Height (cm)</th>\n",
       "      <th>Weight (kg)</th>\n",
       "      <th>Target INR</th>\n",
       "      <th>Subject Reached Stable Dose of Warfarin</th>\n",
       "      <th>Therapeutic Dose of Warfarin</th>\n",
       "      <th>INR on Reported Therapeutic Dose of Warfarin</th>\n",
       "      <th>Current Smoker</th>\n",
       "    </tr>\n",
       "  </thead>\n",
       "  <tbody>\n",
       "    <tr>\n",
       "      <th>count</th>\n",
       "      <td>1651.000000</td>\n",
       "      <td>1964.000000</td>\n",
       "      <td>655.000000</td>\n",
       "      <td>2044.000000</td>\n",
       "      <td>2044.000000</td>\n",
       "      <td>1873.000000</td>\n",
       "      <td>1453.000000</td>\n",
       "    </tr>\n",
       "    <tr>\n",
       "      <th>mean</th>\n",
       "      <td>172.340581</td>\n",
       "      <td>87.561405</td>\n",
       "      <td>2.551985</td>\n",
       "      <td>0.984344</td>\n",
       "      <td>47.496067</td>\n",
       "      <td>2.454592</td>\n",
       "      <td>0.172058</td>\n",
       "    </tr>\n",
       "    <tr>\n",
       "      <th>std</th>\n",
       "      <td>10.222354</td>\n",
       "      <td>23.482079</td>\n",
       "      <td>0.212986</td>\n",
       "      <td>0.124169</td>\n",
       "      <td>15.634492</td>\n",
       "      <td>0.396229</td>\n",
       "      <td>0.377561</td>\n",
       "    </tr>\n",
       "    <tr>\n",
       "      <th>min</th>\n",
       "      <td>140.460000</td>\n",
       "      <td>38.000000</td>\n",
       "      <td>1.750000</td>\n",
       "      <td>0.000000</td>\n",
       "      <td>34.500000</td>\n",
       "      <td>0.800000</td>\n",
       "      <td>0.000000</td>\n",
       "    </tr>\n",
       "    <tr>\n",
       "      <th>25%</th>\n",
       "      <td>165.100000</td>\n",
       "      <td>71.175000</td>\n",
       "      <td>2.500000</td>\n",
       "      <td>1.000000</td>\n",
       "      <td>37.500000</td>\n",
       "      <td>2.200000</td>\n",
       "      <td>0.000000</td>\n",
       "    </tr>\n",
       "    <tr>\n",
       "      <th>50%</th>\n",
       "      <td>172.720000</td>\n",
       "      <td>84.000000</td>\n",
       "      <td>2.500000</td>\n",
       "      <td>1.000000</td>\n",
       "      <td>42.500000</td>\n",
       "      <td>2.500000</td>\n",
       "      <td>0.000000</td>\n",
       "    </tr>\n",
       "    <tr>\n",
       "      <th>75%</th>\n",
       "      <td>180.340000</td>\n",
       "      <td>99.800000</td>\n",
       "      <td>2.500000</td>\n",
       "      <td>1.000000</td>\n",
       "      <td>52.500000</td>\n",
       "      <td>2.700000</td>\n",
       "      <td>0.000000</td>\n",
       "    </tr>\n",
       "    <tr>\n",
       "      <th>max</th>\n",
       "      <td>202.000000</td>\n",
       "      <td>237.700000</td>\n",
       "      <td>3.500000</td>\n",
       "      <td>1.000000</td>\n",
       "      <td>315.000000</td>\n",
       "      <td>6.100000</td>\n",
       "      <td>1.000000</td>\n",
       "    </tr>\n",
       "  </tbody>\n",
       "</table>\n",
       "</div>"
      ],
      "text/plain": [
       "       Height (cm)  Weight (kg)  Target INR  \\\n",
       "count  1651.000000  1964.000000  655.000000   \n",
       "mean    172.340581    87.561405    2.551985   \n",
       "std      10.222354    23.482079    0.212986   \n",
       "min     140.460000    38.000000    1.750000   \n",
       "25%     165.100000    71.175000    2.500000   \n",
       "50%     172.720000    84.000000    2.500000   \n",
       "75%     180.340000    99.800000    2.500000   \n",
       "max     202.000000   237.700000    3.500000   \n",
       "\n",
       "       Subject Reached Stable Dose of Warfarin  Therapeutic Dose of Warfarin  \\\n",
       "count                              2044.000000                   2044.000000   \n",
       "mean                                  0.984344                     47.496067   \n",
       "std                                   0.124169                     15.634492   \n",
       "min                                   0.000000                     34.500000   \n",
       "25%                                   1.000000                     37.500000   \n",
       "50%                                   1.000000                     42.500000   \n",
       "75%                                   1.000000                     52.500000   \n",
       "max                                   1.000000                    315.000000   \n",
       "\n",
       "       INR on Reported Therapeutic Dose of Warfarin  Current Smoker  \n",
       "count                                   1873.000000     1453.000000  \n",
       "mean                                       2.454592        0.172058  \n",
       "std                                        0.396229        0.377561  \n",
       "min                                        0.800000        0.000000  \n",
       "25%                                        2.200000        0.000000  \n",
       "50%                                        2.500000        0.000000  \n",
       "75%                                        2.700000        0.000000  \n",
       "max                                        6.100000        1.000000  "
      ]
     },
     "execution_count": 21,
     "metadata": {},
     "output_type": "execute_result"
    }
   ],
   "source": [
    "raw_df[raw_df[\"Dose Type\"] == \"High\"].describe()"
   ]
  },
  {
   "cell_type": "markdown",
   "metadata": {},
   "source": [
    "Notes: \n",
    "- Race: 0 for more than 50%, 1 for more than 75%"
   ]
  },
  {
   "cell_type": "code",
   "execution_count": 22,
   "metadata": {
    "scrolled": true
   },
   "outputs": [
    {
     "data": {
      "text/html": [
       "<div>\n",
       "<style>\n",
       "    .dataframe thead tr:only-child th {\n",
       "        text-align: right;\n",
       "    }\n",
       "\n",
       "    .dataframe thead th {\n",
       "        text-align: left;\n",
       "    }\n",
       "\n",
       "    .dataframe tbody tr th {\n",
       "        vertical-align: top;\n",
       "    }\n",
       "</style>\n",
       "<table border=\"1\" class=\"dataframe\">\n",
       "  <thead>\n",
       "    <tr style=\"text-align: right;\">\n",
       "      <th></th>\n",
       "      <th>Height (cm)</th>\n",
       "      <th>Weight (kg)</th>\n",
       "      <th>Target INR</th>\n",
       "      <th>Subject Reached Stable Dose of Warfarin</th>\n",
       "      <th>Therapeutic Dose of Warfarin</th>\n",
       "      <th>INR on Reported Therapeutic Dose of Warfarin</th>\n",
       "      <th>Current Smoker</th>\n",
       "    </tr>\n",
       "  </thead>\n",
       "  <tbody>\n",
       "    <tr>\n",
       "      <th>count</th>\n",
       "      <td>2903.000000</td>\n",
       "      <td>3449.000000</td>\n",
       "      <td>604.000000</td>\n",
       "      <td>3607.000000</td>\n",
       "      <td>3484.000000</td>\n",
       "      <td>3095.000000</td>\n",
       "      <td>1767.000000</td>\n",
       "    </tr>\n",
       "    <tr>\n",
       "      <th>mean</th>\n",
       "      <td>165.606417</td>\n",
       "      <td>72.324732</td>\n",
       "      <td>2.523510</td>\n",
       "      <td>0.946216</td>\n",
       "      <td>21.286946</td>\n",
       "      <td>2.309877</td>\n",
       "      <td>0.112620</td>\n",
       "    </tr>\n",
       "    <tr>\n",
       "      <th>std</th>\n",
       "      <td>10.426034</td>\n",
       "      <td>18.758182</td>\n",
       "      <td>0.179672</td>\n",
       "      <td>0.225623</td>\n",
       "      <td>7.105389</td>\n",
       "      <td>0.493663</td>\n",
       "      <td>0.316218</td>\n",
       "    </tr>\n",
       "    <tr>\n",
       "      <th>min</th>\n",
       "      <td>124.970000</td>\n",
       "      <td>30.000000</td>\n",
       "      <td>1.300000</td>\n",
       "      <td>0.000000</td>\n",
       "      <td>2.100000</td>\n",
       "      <td>0.850000</td>\n",
       "      <td>0.000000</td>\n",
       "    </tr>\n",
       "    <tr>\n",
       "      <th>25%</th>\n",
       "      <td>157.990000</td>\n",
       "      <td>59.000000</td>\n",
       "      <td>2.500000</td>\n",
       "      <td>1.000000</td>\n",
       "      <td>17.000000</td>\n",
       "      <td>2.000000</td>\n",
       "      <td>0.000000</td>\n",
       "    </tr>\n",
       "    <tr>\n",
       "      <th>50%</th>\n",
       "      <td>165.100000</td>\n",
       "      <td>70.000000</td>\n",
       "      <td>2.500000</td>\n",
       "      <td>1.000000</td>\n",
       "      <td>21.000000</td>\n",
       "      <td>2.360000</td>\n",
       "      <td>0.000000</td>\n",
       "    </tr>\n",
       "    <tr>\n",
       "      <th>75%</th>\n",
       "      <td>172.970000</td>\n",
       "      <td>82.600000</td>\n",
       "      <td>2.500000</td>\n",
       "      <td>1.000000</td>\n",
       "      <td>27.500000</td>\n",
       "      <td>2.600000</td>\n",
       "      <td>0.000000</td>\n",
       "    </tr>\n",
       "    <tr>\n",
       "      <th>max</th>\n",
       "      <td>200.660000</td>\n",
       "      <td>215.500000</td>\n",
       "      <td>3.500000</td>\n",
       "      <td>1.000000</td>\n",
       "      <td>34.040000</td>\n",
       "      <td>5.100000</td>\n",
       "      <td>1.000000</td>\n",
       "    </tr>\n",
       "  </tbody>\n",
       "</table>\n",
       "</div>"
      ],
      "text/plain": [
       "       Height (cm)  Weight (kg)  Target INR  \\\n",
       "count  2903.000000  3449.000000  604.000000   \n",
       "mean    165.606417    72.324732    2.523510   \n",
       "std      10.426034    18.758182    0.179672   \n",
       "min     124.970000    30.000000    1.300000   \n",
       "25%     157.990000    59.000000    2.500000   \n",
       "50%     165.100000    70.000000    2.500000   \n",
       "75%     172.970000    82.600000    2.500000   \n",
       "max     200.660000   215.500000    3.500000   \n",
       "\n",
       "       Subject Reached Stable Dose of Warfarin  Therapeutic Dose of Warfarin  \\\n",
       "count                              3607.000000                   3484.000000   \n",
       "mean                                  0.946216                     21.286946   \n",
       "std                                   0.225623                      7.105389   \n",
       "min                                   0.000000                      2.100000   \n",
       "25%                                   1.000000                     17.000000   \n",
       "50%                                   1.000000                     21.000000   \n",
       "75%                                   1.000000                     27.500000   \n",
       "max                                   1.000000                     34.040000   \n",
       "\n",
       "       INR on Reported Therapeutic Dose of Warfarin  Current Smoker  \n",
       "count                                   3095.000000     1767.000000  \n",
       "mean                                       2.309877        0.112620  \n",
       "std                                        0.493663        0.316218  \n",
       "min                                        0.850000        0.000000  \n",
       "25%                                        2.000000        0.000000  \n",
       "50%                                        2.360000        0.000000  \n",
       "75%                                        2.600000        0.000000  \n",
       "max                                        5.100000        1.000000  "
      ]
     },
     "execution_count": 22,
     "metadata": {},
     "output_type": "execute_result"
    }
   ],
   "source": [
    "raw_df[raw_df[\"Dose Type\"] == \"Low\"].describe()"
   ]
  },
  {
   "cell_type": "markdown",
   "metadata": {},
   "source": [
    "### Visualize Distributions"
   ]
  },
  {
   "cell_type": "code",
   "execution_count": 23,
   "metadata": {
    "scrolled": true
   },
   "outputs": [
    {
     "data": {
      "text/plain": [
       "<matplotlib.axes._subplots.AxesSubplot at 0x118cb5be0>"
      ]
     },
     "execution_count": 23,
     "metadata": {},
     "output_type": "execute_result"
    },
    {
     "data": {
      "image/png": "[encoded data removed]",
      "text/plain": [
       "<matplotlib.figure.Figure at 0x118cb5f28>"
      ]
     },
     "metadata": {},
     "output_type": "display_data"
    }
   ],
   "source": [
    "sns.countplot(\"Dose Type\", data=raw_df)"
   ]
  },
  {
   "cell_type": "code",
   "execution_count": 24,
   "metadata": {},
   "outputs": [
    {
     "data": {
      "text/plain": [
       "<matplotlib.axes._subplots.AxesSubplot at 0x118aef550>"
      ]
     },
     "execution_count": 24,
     "metadata": {},
     "output_type": "execute_result"
    },
    {
     "data": {
      "image/png": "[encoded data removed]",
      "text/plain": [
       "<matplotlib.figure.Figure at 0x117e547b8>"
      ]
     },
     "metadata": {},
     "output_type": "display_data"
    }
   ],
   "source": [
    "sns.countplot(\"Gender\", data=raw_df, hue=\"Dose Type\")"
   ]
  },
  {
   "cell_type": "code",
   "execution_count": 25,
   "metadata": {},
   "outputs": [
    {
     "data": {
      "text/plain": [
       "<matplotlib.axes._subplots.AxesSubplot at 0x118c0b080>"
      ]
     },
     "execution_count": 25,
     "metadata": {},
     "output_type": "execute_result"
    },
    {
     "data": {
      "image/png": "[encoded data removed]",
      "text/plain": [
       "<matplotlib.figure.Figure at 0x118aefb00>"
      ]
     },
     "metadata": {},
     "output_type": "display_data"
    }
   ],
   "source": [
    "sns.countplot(\"Gender\", data=raw_df, hue=\"Dose Type\")"
   ]
  },
  {
   "cell_type": "code",
   "execution_count": 26,
   "metadata": {},
   "outputs": [
    {
     "data": {
      "text/plain": [
       "<matplotlib.axes._subplots.AxesSubplot at 0x11c008b38>"
      ]
     },
     "execution_count": 26,
     "metadata": {},
     "output_type": "execute_result"
    },
    {
     "data": {
      "image/png": "[encoded data removed]",
      "text/plain": [
       "<matplotlib.figure.Figure at 0x11c017080>"
      ]
     },
     "metadata": {},
     "output_type": "display_data"
    }
   ],
   "source": [
    "sns.distplot(raw_df[raw_df[\"Dose Type\"] == \"High\"][\"Height (cm)\"].dropna(), color=\"lightblue\")\n",
    "sns.distplot(raw_df[raw_df[\"Dose Type\"] == \"Low\"][\"Height (cm)\"].dropna(), color=\"lightgreen\")"
   ]
  },
  {
   "cell_type": "markdown",
   "metadata": {},
   "source": [
    "Note: Lower dosage often given for smaller height, high dosage often for taller height."
   ]
  },
  {
   "cell_type": "code",
   "execution_count": 27,
   "metadata": {},
   "outputs": [
    {
     "data": {
      "text/plain": [
       "<matplotlib.axes._subplots.AxesSubplot at 0x11c100898>"
      ]
     },
     "execution_count": 27,
     "metadata": {},
     "output_type": "execute_result"
    },
    {
     "data": {
      "image/png": "[encoded data removed]",
      "text/plain": [
       "<matplotlib.figure.Figure at 0x118c5feb8>"
      ]
     },
     "metadata": {},
     "output_type": "display_data"
    }
   ],
   "source": [
    "sns.distplot(raw_df[raw_df[\"Dose Type\"] == \"High\"][\"Weight (kg)\"].dropna(), color=\"lightblue\")\n",
    "sns.distplot(raw_df[raw_df[\"Dose Type\"] == \"Low\"][\"Weight (kg)\"].dropna(), color=\"lightgreen\")"
   ]
  },
  {
   "cell_type": "markdown",
   "metadata": {},
   "source": [
    "Note: Lower dosage often given for lighter weight, higher dosage given for slightly higher weight"
   ]
  },
  {
   "cell_type": "code",
   "execution_count": 28,
   "metadata": {
    "scrolled": true
   },
   "outputs": [
    {
     "data": {
      "text/plain": [
       "<matplotlib.axes._subplots.AxesSubplot at 0x11c46dfd0>"
      ]
     },
     "execution_count": 28,
     "metadata": {},
     "output_type": "execute_result"
    },
    {
     "data": {
      "image/png": "[encoded data removed]",
      "text/plain": [
       "<matplotlib.figure.Figure at 0x1181ef6a0>"
      ]
     },
     "metadata": {},
     "output_type": "display_data"
    }
   ],
   "source": [
    "sns.countplot(\"VKORC1 -1639 consensus\", data=raw_df, hue=\"Dose Type\")"
   ]
  },
  {
   "cell_type": "markdown",
   "metadata": {},
   "source": [
    "Note: Low dosage clearly common for A/A, High dosage common for G/G. **What populations are more likely to have A variant for VKORC1?**"
   ]
  },
  {
   "cell_type": "code",
   "execution_count": 29,
   "metadata": {},
   "outputs": [
    {
     "data": {
      "text/plain": [
       "<matplotlib.axes._subplots.AxesSubplot at 0x11c4b3d68>"
      ]
     },
     "execution_count": 29,
     "metadata": {},
     "output_type": "execute_result"
    },
    {
     "data": {
      "image/png": "[encoded data removed]",
      "text/plain": [
       "<matplotlib.figure.Figure at 0x11c37c0f0>"
      ]
     },
     "metadata": {},
     "output_type": "display_data"
    }
   ],
   "source": [
    "sns.countplot(\"CYP2C9 consensus\", data=raw_df, hue=\"Dose Type\")"
   ]
  },
  {
   "cell_type": "markdown",
   "metadata": {},
   "source": [
    "Note: Low dose seen most for those with \\*1: \\*1/\\*1, \\*1/\\*2, \\*1/\\*3."
   ]
  },
  {
   "cell_type": "code",
   "execution_count": 30,
   "metadata": {},
   "outputs": [
    {
     "data": {
      "text/plain": [
       "<matplotlib.axes._subplots.AxesSubplot at 0x11c99ef60>"
      ]
     },
     "execution_count": 30,
     "metadata": {},
     "output_type": "execute_result"
    },
    {
     "data": {
      "image/png": "[encoded data removed]",
      "text/plain": [
       "<matplotlib.figure.Figure at 0x11c8ff2e8>"
      ]
     },
     "metadata": {},
     "output_type": "display_data"
    }
   ],
   "source": [
    "sns.distplot(raw_df[raw_df[\"Dose Type\"] == \"High\"][\"Target INR\"].dropna(), color=\"lightblue\", kde=False)\n",
    "sns.distplot(raw_df[raw_df[\"Dose Type\"] == \"Low\"][\"Target INR\"].dropna(), color=\"lightgreen\", kde=False)"
   ]
  },
  {
   "cell_type": "code",
   "execution_count": 31,
   "metadata": {},
   "outputs": [
    {
     "data": {
      "text/plain": [
       "<matplotlib.axes._subplots.AxesSubplot at 0x11cb3a278>"
      ]
     },
     "execution_count": 31,
     "metadata": {},
     "output_type": "execute_result"
    },
    {
     "data": {
      "image/png": "[encoded data removed]",
      "text/plain": [
       "<matplotlib.figure.Figure at 0x11c91eac8>"
      ]
     },
     "metadata": {},
     "output_type": "display_data"
    }
   ],
   "source": [
    "sns.distplot(raw_df[\"Therapeutic Dose of Warfarin\"].dropna(), color=\"lightpink\", kde=False)"
   ]
  },
  {
   "cell_type": "markdown",
   "metadata": {},
   "source": [
    "Why does the range go up to 300? Is there an outlier?"
   ]
  },
  {
   "cell_type": "code",
   "execution_count": 32,
   "metadata": {},
   "outputs": [
    {
     "data": {
      "text/plain": [
       "3902    230.0\n",
       "4162    157.5\n",
       "4246    315.0\n",
       "Name: Therapeutic Dose of Warfarin, dtype: float64"
      ]
     },
     "execution_count": 32,
     "metadata": {},
     "output_type": "execute_result"
    }
   ],
   "source": [
    "raw_df[raw_df[\"Therapeutic Dose of Warfarin\"] > 150][\"Therapeutic Dose of Warfarin\"]"
   ]
  },
  {
   "cell_type": "code",
   "execution_count": 33,
   "metadata": {},
   "outputs": [
    {
     "data": {
      "text/plain": [
       "<matplotlib.axes._subplots.AxesSubplot at 0x11cdf15f8>"
      ]
     },
     "execution_count": 33,
     "metadata": {},
     "output_type": "execute_result"
    },
    {
     "data": {
      "image/png": "[encoded data removed]",
      "text/plain": [
       "<matplotlib.figure.Figure at 0x11cae1c88>"
      ]
     },
     "metadata": {},
     "output_type": "display_data"
    }
   ],
   "source": [
    "sns.countplot(\"Subject Reached Stable Dose of Warfarin\", data=raw_df, hue=\"Dose Type\")"
   ]
  },
  {
   "cell_type": "code",
   "execution_count": 34,
   "metadata": {
    "scrolled": false
   },
   "outputs": [
    {
     "data": {
      "text/plain": [
       "<matplotlib.axes._subplots.AxesSubplot at 0x11cb37fd0>"
      ]
     },
     "execution_count": 34,
     "metadata": {},
     "output_type": "execute_result"
    },
    {
     "data": {
      "image/png": "[encoded data removed]",
      "text/plain": [
       "<matplotlib.figure.Figure at 0x11c81d438>"
      ]
     },
     "metadata": {},
     "output_type": "display_data"
    }
   ],
   "source": [
    "sns.countplot(\"Current Smoker\", data=raw_df, hue=\"Dose Type\")"
   ]
  },
  {
   "cell_type": "markdown",
   "metadata": {},
   "source": [
    "Based on the plots, I wonder if the high values of low dose type is because there are significantly more cases of it. Will we get similar results if we downsample the low dose cases?"
   ]
  },
  {
   "cell_type": "code",
   "execution_count": 35,
   "metadata": {
    "collapsed": true
   },
   "outputs": [],
   "source": [
    "sampled = raw_df[raw_df[\"Dose Type\"] == \"Low\"].sample(n=2044)\n",
    "sampled = sampled.append(raw_df[raw_df[\"Dose Type\"] == \"High\"])\n",
    "sampled.sort_index(inplace=True)"
   ]
  },
  {
   "cell_type": "code",
   "execution_count": 36,
   "metadata": {
    "scrolled": true
   },
   "outputs": [
    {
     "data": {
      "text/plain": [
       "<matplotlib.axes._subplots.AxesSubplot at 0x11cfeed30>"
      ]
     },
     "execution_count": 36,
     "metadata": {},
     "output_type": "execute_result"
    },
    {
     "data": {
      "image/png": "[encoded data removed]",
      "text/plain": [
       "<matplotlib.figure.Figure at 0x11c817dd8>"
      ]
     },
     "metadata": {},
     "output_type": "display_data"
    }
   ],
   "source": [
    "sns.countplot(\"Dose Type\", data=sampled)"
   ]
  },
  {
   "cell_type": "code",
   "execution_count": 37,
   "metadata": {},
   "outputs": [
    {
     "data": {
      "text/plain": [
       "<matplotlib.axes._subplots.AxesSubplot at 0x11d10d860>"
      ]
     },
     "execution_count": 37,
     "metadata": {},
     "output_type": "execute_result"
    },
    {
     "data": {
      "image/png": "[encoded data removed]",
      "text/plain": [
       "<matplotlib.figure.Figure at 0x11cfeef28>"
      ]
     },
     "metadata": {},
     "output_type": "display_data"
    }
   ],
   "source": [
    "sns.countplot(\"Gender\", data=sampled, hue=\"Dose Type\")"
   ]
  },
  {
   "cell_type": "code",
   "execution_count": 38,
   "metadata": {},
   "outputs": [
    {
     "data": {
      "text/plain": [
       "<matplotlib.axes._subplots.AxesSubplot at 0x11c829d30>"
      ]
     },
     "execution_count": 38,
     "metadata": {},
     "output_type": "execute_result"
    },
    {
     "data": {
      "image/png": "[encoded data removed]",
      "text/plain": [
       "<matplotlib.figure.Figure at 0x11d3bb5f8>"
      ]
     },
     "metadata": {},
     "output_type": "display_data"
    }
   ],
   "source": [
    "sns.countplot(\"Gender\", data=sampled, hue=\"Dose Type\")"
   ]
  },
  {
   "cell_type": "code",
   "execution_count": 39,
   "metadata": {},
   "outputs": [
    {
     "data": {
      "text/plain": [
       "<matplotlib.axes._subplots.AxesSubplot at 0x11d01e438>"
      ]
     },
     "execution_count": 39,
     "metadata": {},
     "output_type": "execute_result"
    },
    {
     "data": {
      "image/png": "[encoded data removed]",
      "text/plain": [
       "<matplotlib.figure.Figure at 0x11d3ed630>"
      ]
     },
     "metadata": {},
     "output_type": "display_data"
    }
   ],
   "source": [
    "sns.distplot(sampled[sampled[\"Dose Type\"] == \"High\"][\"Height (cm)\"].dropna(), color=\"lightblue\")\n",
    "sns.distplot(sampled[sampled[\"Dose Type\"] == \"Low\"][\"Height (cm)\"].dropna(), color=\"lightgreen\")"
   ]
  },
  {
   "cell_type": "markdown",
   "metadata": {},
   "source": [
    "Note: Same; Lower dosage often given for smaller height, high dosage often for taller height."
   ]
  },
  {
   "cell_type": "code",
   "execution_count": 40,
   "metadata": {},
   "outputs": [
    {
     "data": {
      "text/plain": [
       "<matplotlib.axes._subplots.AxesSubplot at 0x11d51a128>"
      ]
     },
     "execution_count": 40,
     "metadata": {},
     "output_type": "execute_result"
    },
    {
     "data": {
      "image/png": "[encoded data removed]",
      "text/plain": [
       "<matplotlib.figure.Figure at 0x11d4cfd68>"
      ]
     },
     "metadata": {},
     "output_type": "display_data"
    }
   ],
   "source": [
    "sns.distplot(sampled[sampled[\"Dose Type\"] == \"High\"][\"Weight (kg)\"].dropna(), color=\"lightblue\")\n",
    "sns.distplot(sampled[sampled[\"Dose Type\"] == \"Low\"][\"Weight (kg)\"].dropna(), color=\"lightgreen\")"
   ]
  },
  {
   "cell_type": "markdown",
   "metadata": {},
   "source": [
    "Note: Same; Lower dosage often given for lighter weight, higher dosage given for slightly higher weight"
   ]
  },
  {
   "cell_type": "code",
   "execution_count": 41,
   "metadata": {},
   "outputs": [
    {
     "data": {
      "text/plain": [
       "<matplotlib.axes._subplots.AxesSubplot at 0x11d5d9ac8>"
      ]
     },
     "execution_count": 41,
     "metadata": {},
     "output_type": "execute_result"
    },
    {
     "data": {
      "image/png": "[encoded data removed]",
      "text/plain": [
       "<matplotlib.figure.Figure at 0x11c65d5f8>"
      ]
     },
     "metadata": {},
     "output_type": "display_data"
    }
   ],
   "source": [
    "sns.countplot(\"VKORC1 -1639 consensus\", data=sampled, hue=\"Dose Type\")"
   ]
  },
  {
   "cell_type": "markdown",
   "metadata": {},
   "source": [
    "Note: Low dosage clearly common for A/A, High dosage common for G/G. **What populations are more likely to have A variant for VKORC1?**"
   ]
  },
  {
   "cell_type": "code",
   "execution_count": 42,
   "metadata": {},
   "outputs": [
    {
     "data": {
      "text/plain": [
       "<matplotlib.axes._subplots.AxesSubplot at 0x11d96ef60>"
      ]
     },
     "execution_count": 42,
     "metadata": {},
     "output_type": "execute_result"
    },
    {
     "data": {
      "image/png": "[encoded data removed]",
      "text/plain": [
       "<matplotlib.figure.Figure at 0x11d125550>"
      ]
     },
     "metadata": {},
     "output_type": "display_data"
    }
   ],
   "source": [
    "sns.countplot(\"CYP2C9 consensus\", data=sampled, hue=\"Dose Type\")"
   ]
  },
  {
   "cell_type": "markdown",
   "metadata": {},
   "source": [
    "Note: Different; High dose only slightly greater for \\*1/\\*1..."
   ]
  },
  {
   "cell_type": "code",
   "execution_count": 43,
   "metadata": {},
   "outputs": [
    {
     "data": {
      "text/plain": [
       "<matplotlib.axes._subplots.AxesSubplot at 0x11db7a9b0>"
      ]
     },
     "execution_count": 43,
     "metadata": {},
     "output_type": "execute_result"
    },
    {
     "data": {
      "image/png": "[encoded data removed]",
      "text/plain": [
       "<matplotlib.figure.Figure at 0x11dca93c8>"
      ]
     },
     "metadata": {},
     "output_type": "display_data"
    }
   ],
   "source": [
    "sns.countplot(\"Subject Reached Stable Dose of Warfarin\", data=sampled, hue=\"Dose Type\")"
   ]
  },
  {
   "cell_type": "code",
   "execution_count": 44,
   "metadata": {
    "scrolled": false
   },
   "outputs": [
    {
     "data": {
      "text/plain": [
       "<matplotlib.axes._subplots.AxesSubplot at 0x11dcfa080>"
      ]
     },
     "execution_count": 44,
     "metadata": {},
     "output_type": "execute_result"
    },
    {
     "data": {
      "image/png": "[encoded data removed]",
      "text/plain": [
       "<matplotlib.figure.Figure at 0x11d4c8f28>"
      ]
     },
     "metadata": {},
     "output_type": "display_data"
    }
   ],
   "source": [
    "sns.countplot(\"Current Smoker\", data=sampled, hue=\"Dose Type\")"
   ]
  },
  {
   "cell_type": "markdown",
   "metadata": {},
   "source": [
    "### Insights:\n",
    "- A/A for Low Dose, G/G for High Dose, about '50/50' between low and high for A/G\n",
    "\n",
    "I'd like to investigate if there is some relationship between VKORC1 and dempgraphic characteristics such as Race. There might be key factors in these demographics that attribute to having A/A or A/G.\n",
    "\n",
    "---"
   ]
  },
  {
   "cell_type": "markdown",
   "metadata": {},
   "source": [
    "# Visualization Set A\n",
    "1. Distribution of Race and VKORC1. \n",
    "2. Distribution of Race and CYP2C9."
   ]
  },
  {
   "cell_type": "code",
   "execution_count": 45,
   "metadata": {
    "scrolled": true
   },
   "outputs": [
    {
     "data": {
      "text/plain": [
       "<seaborn.axisgrid.FacetGrid at 0x11df1b4e0>"
      ]
     },
     "execution_count": 45,
     "metadata": {},
     "output_type": "execute_result"
    },
    {
     "data": {
      "image/png": "[encoded data removed]",
      "text/plain": [
       "<matplotlib.figure.Figure at 0x11df1b128>"
      ]
     },
     "metadata": {},
     "output_type": "display_data"
    }
   ],
   "source": [
    "sns.factorplot(x=\"VKORC1 -1639 consensus\", col= \"Race (OMB)\", hue=\"Dose Type\", kind=\"count\", data=sampled)"
   ]
  },
  {
   "cell_type": "markdown",
   "metadata": {},
   "source": [
    "### Insights: \n",
    "* **Low Dose** is most significant given for **Asians w/ A/A VKORC1**. \n",
    "* Other cases of low dose: \n",
    "    * **Asians w/ A/G**\n",
    "    * **Whites w/ A/A**\n",
    "* **High Dose** is common most significant for **Whites w/ G/G** and **Black/African American w/ G/G**\n",
    "* Black/African American population has low frequency of A/A overall"
   ]
  },
  {
   "cell_type": "code",
   "execution_count": 46,
   "metadata": {
    "scrolled": false
   },
   "outputs": [
    {
     "data": {
      "text/plain": [
       "<seaborn.axisgrid.FacetGrid at 0x11e117a58>"
      ]
     },
     "execution_count": 46,
     "metadata": {},
     "output_type": "execute_result"
    },
    {
     "data": {
      "image/png": "[encoded data removed]",
      "text/plain": [
       "<matplotlib.figure.Figure at 0x11e1ccac8>"
      ]
     },
     "metadata": {},
     "output_type": "display_data"
    }
   ],
   "source": [
    "sns.factorplot(x='CYP2C9 consensus', col= \"Race (OMB)\", hue=\"Dose Type\", kind=\"count\", data=sampled)"
   ]
  },
  {
   "cell_type": "markdown",
   "metadata": {},
   "source": [
    "### Insights:\n",
    "* Low Dose most significant for **Asians w/ \\*1/\\*1 CYP2C9**\n",
    "* Other Low Dose Cases: \n",
    "    * **Asians w/ \\*1/\\*3**\n",
    "    * **Whites w/ \\*1/\\*3**\n",
    "* High Dose is most significant for **Whites w/ \\*1/\\*1** and **Black/African Americans w/ \\*1/\\*1** in this sampled set.\n",
    "\n",
    "<br>\n",
    "<br>\n",
    "\n",
    "Since overall counts vary for difference race types, it's possible that results for VKORC1 and CYP2C9 may be skewed. To double check, we can take samples of 100 people for each race and plot the results, as shown below: "
   ]
  },
  {
   "cell_type": "code",
   "execution_count": 47,
   "metadata": {
    "collapsed": true
   },
   "outputs": [],
   "source": [
    "sampled_by_race = sampled[sampled[\"Race (OMB)\"] == \"Asian\"].sample(n=100)\n",
    "sampled_by_race = sampled_by_race.append(sampled[sampled[\"Race (OMB)\"] == \"White\"].sample(n=100))\n",
    "sampled_by_race = sampled_by_race.append(sampled[sampled[\"Race (OMB)\"] == \"Black or African American\"].sample(n=100))\n",
    "sampled_by_race = sampled_by_race.append(sampled[sampled[\"Race (OMB)\"] == \"Unknown\"].sample(n=100))"
   ]
  },
  {
   "cell_type": "markdown",
   "metadata": {},
   "source": [
    "Display some of random sample"
   ]
  },
  {
   "cell_type": "code",
   "execution_count": 48,
   "metadata": {},
   "outputs": [
    {
     "data": {
      "text/html": [
       "<div>\n",
       "<style>\n",
       "    .dataframe thead tr:only-child th {\n",
       "        text-align: right;\n",
       "    }\n",
       "\n",
       "    .dataframe thead th {\n",
       "        text-align: left;\n",
       "    }\n",
       "\n",
       "    .dataframe tbody tr th {\n",
       "        vertical-align: top;\n",
       "    }\n",
       "</style>\n",
       "<table border=\"1\" class=\"dataframe\">\n",
       "  <thead>\n",
       "    <tr style=\"text-align: right;\">\n",
       "      <th></th>\n",
       "      <th>Race (OMB)</th>\n",
       "      <th>CYP2C9 consensus</th>\n",
       "      <th>VKORC1 -1639 consensus</th>\n",
       "    </tr>\n",
       "  </thead>\n",
       "  <tbody>\n",
       "    <tr>\n",
       "      <th>3453</th>\n",
       "      <td>Black or African American</td>\n",
       "      <td>*1/*1</td>\n",
       "      <td>G/G</td>\n",
       "    </tr>\n",
       "    <tr>\n",
       "      <th>621</th>\n",
       "      <td>Asian</td>\n",
       "      <td>*1/*1</td>\n",
       "      <td>A/G</td>\n",
       "    </tr>\n",
       "    <tr>\n",
       "      <th>5265</th>\n",
       "      <td>White</td>\n",
       "      <td>*1/*1</td>\n",
       "      <td>G/G</td>\n",
       "    </tr>\n",
       "    <tr>\n",
       "      <th>3918</th>\n",
       "      <td>Black or African American</td>\n",
       "      <td>NaN</td>\n",
       "      <td>G/G</td>\n",
       "    </tr>\n",
       "    <tr>\n",
       "      <th>4484</th>\n",
       "      <td>Black or African American</td>\n",
       "      <td>*1/*1</td>\n",
       "      <td>G/G</td>\n",
       "    </tr>\n",
       "  </tbody>\n",
       "</table>\n",
       "</div>"
      ],
      "text/plain": [
       "                     Race (OMB) CYP2C9 consensus VKORC1 -1639 consensus\n",
       "3453  Black or African American            *1/*1                    G/G\n",
       "621                       Asian            *1/*1                    A/G\n",
       "5265                      White            *1/*1                    G/G\n",
       "3918  Black or African American              NaN                    G/G\n",
       "4484  Black or African American            *1/*1                    G/G"
      ]
     },
     "execution_count": 48,
     "metadata": {},
     "output_type": "execute_result"
    }
   ],
   "source": [
    "sampled_by_race[['Race (OMB)', 'CYP2C9 consensus', 'VKORC1 -1639 consensus']].sample(5)"
   ]
  },
  {
   "cell_type": "code",
   "execution_count": 49,
   "metadata": {},
   "outputs": [
    {
     "data": {
      "text/plain": [
       "<seaborn.axisgrid.FacetGrid at 0x11d4c80b8>"
      ]
     },
     "execution_count": 49,
     "metadata": {},
     "output_type": "execute_result"
    },
    {
     "data": {
      "image/png": "[encoded data removed]",
      "text/plain": [
       "<matplotlib.figure.Figure at 0x11e6422b0>"
      ]
     },
     "metadata": {},
     "output_type": "display_data"
    }
   ],
   "source": [
    "sns.factorplot(x=\"VKORC1 -1639 consensus\", col= \"Race (OMB)\", hue=\"Dose Type\", kind=\"count\", data=sampled_by_race, hue_order=[\"High\", \"Low\"])"
   ]
  },
  {
   "cell_type": "code",
   "execution_count": 50,
   "metadata": {},
   "outputs": [
    {
     "data": {
      "text/plain": [
       "<seaborn.axisgrid.FacetGrid at 0x11e5ed080>"
      ]
     },
     "execution_count": 50,
     "metadata": {},
     "output_type": "execute_result"
    },
    {
     "data": {
      "image/png": "[encoded data removed]",
      "text/plain": [
       "<matplotlib.figure.Figure at 0x11e301358>"
      ]
     },
     "metadata": {},
     "output_type": "display_data"
    }
   ],
   "source": [
    "sns.factorplot(x='CYP2C9 consensus', col= \"Race (OMB)\", hue=\"Dose Type\", kind=\"count\", data=sampled_by_race, hue_order=[\"High\", \"Low\"])"
   ]
  },
  {
   "cell_type": "markdown",
   "metadata": {},
   "source": [
    "<br>\n",
    "* **Low Dose** is most significant given for **Asians w/ A/A VKORC1**. \n",
    "* Other cases of low dose: \n",
    "    * **Asians w/ A/G**\n",
    "    * **Whites w/ A/A**\n",
    "* **High Dose** is common most significant for **Whites w/ G/G** and **Black/African American w/ G/G**\n",
    "* Black/African American population has low frequency of A/A overall\n",
    "\n",
    "Interestingly, for both plots of the sampled by race dataset we see the same findings: \n",
    "* Low Dose common for Asians with A/A VKORC1 and/or \\*1/\\*1 CYP2C9\n",
    "* High Dose for Whites and Black/African Americans with G/G VKORC1 and/or \\*1/\\*1 CYP2C9\n",
    "\n",
    "<br>\n",
    "\n",
    "It would be interesting to see a heatmap of of dosage and these two genes against race. "
   ]
  },
  {
   "cell_type": "code",
   "execution_count": 51,
   "metadata": {
    "collapsed": true
   },
   "outputs": [],
   "source": [
    "race_genes = sampled.groupby([\"Race (OMB)\", \"CYP2C9 consensus\", \"VKORC1 -1639 consensus\", \"Dose Type\"])[\"Dose Type\"].agg([\"count\"])"
   ]
  },
  {
   "cell_type": "code",
   "execution_count": 52,
   "metadata": {},
   "outputs": [
    {
     "data": {
      "text/html": [
       "<div>\n",
       "<style>\n",
       "    .dataframe thead tr:only-child th {\n",
       "        text-align: right;\n",
       "    }\n",
       "\n",
       "    .dataframe thead th {\n",
       "        text-align: left;\n",
       "    }\n",
       "\n",
       "    .dataframe tbody tr th {\n",
       "        vertical-align: top;\n",
       "    }\n",
       "</style>\n",
       "<table border=\"1\" class=\"dataframe\">\n",
       "  <thead>\n",
       "    <tr>\n",
       "      <th></th>\n",
       "      <th></th>\n",
       "      <th></th>\n",
       "      <th colspan=\"4\" halign=\"left\">count</th>\n",
       "    </tr>\n",
       "    <tr>\n",
       "      <th></th>\n",
       "      <th></th>\n",
       "      <th>Race (OMB)</th>\n",
       "      <th>Asian</th>\n",
       "      <th>Black or African American</th>\n",
       "      <th>Unknown</th>\n",
       "      <th>White</th>\n",
       "    </tr>\n",
       "    <tr>\n",
       "      <th>Dose Type</th>\n",
       "      <th>CYP2C9 consensus</th>\n",
       "      <th>VKORC1 -1639 consensus</th>\n",
       "      <th></th>\n",
       "      <th></th>\n",
       "      <th></th>\n",
       "      <th></th>\n",
       "    </tr>\n",
       "  </thead>\n",
       "  <tbody>\n",
       "    <tr>\n",
       "      <th rowspan=\"5\" valign=\"top\">High</th>\n",
       "      <th rowspan=\"3\" valign=\"top\">*1/*1</th>\n",
       "      <th>A/A</th>\n",
       "      <td>74.0</td>\n",
       "      <td>NaN</td>\n",
       "      <td>NaN</td>\n",
       "      <td>26.0</td>\n",
       "    </tr>\n",
       "    <tr>\n",
       "      <th>A/G</th>\n",
       "      <td>68.0</td>\n",
       "      <td>33.0</td>\n",
       "      <td>24.0</td>\n",
       "      <td>297.0</td>\n",
       "    </tr>\n",
       "    <tr>\n",
       "      <th>G/G</th>\n",
       "      <td>10.0</td>\n",
       "      <td>180.0</td>\n",
       "      <td>57.0</td>\n",
       "      <td>380.0</td>\n",
       "    </tr>\n",
       "    <tr>\n",
       "      <th rowspan=\"2\" valign=\"top\">*1/*11</th>\n",
       "      <th>A/A</th>\n",
       "      <td>NaN</td>\n",
       "      <td>NaN</td>\n",
       "      <td>NaN</td>\n",
       "      <td>NaN</td>\n",
       "    </tr>\n",
       "    <tr>\n",
       "      <th>A/G</th>\n",
       "      <td>NaN</td>\n",
       "      <td>NaN</td>\n",
       "      <td>NaN</td>\n",
       "      <td>1.0</td>\n",
       "    </tr>\n",
       "  </tbody>\n",
       "</table>\n",
       "</div>"
      ],
      "text/plain": [
       "                                                  count  \\\n",
       "Race (OMB)                                        Asian   \n",
       "Dose Type CYP2C9 consensus VKORC1 -1639 consensus         \n",
       "High      *1/*1            A/A                     74.0   \n",
       "                           A/G                     68.0   \n",
       "                           G/G                     10.0   \n",
       "          *1/*11           A/A                      NaN   \n",
       "                           A/G                      NaN   \n",
       "\n",
       "                                                                             \\\n",
       "Race (OMB)                                        Black or African American   \n",
       "Dose Type CYP2C9 consensus VKORC1 -1639 consensus                             \n",
       "High      *1/*1            A/A                                          NaN   \n",
       "                           A/G                                         33.0   \n",
       "                           G/G                                        180.0   \n",
       "          *1/*11           A/A                                          NaN   \n",
       "                           A/G                                          NaN   \n",
       "\n",
       "                                                                  \n",
       "Race (OMB)                                        Unknown  White  \n",
       "Dose Type CYP2C9 consensus VKORC1 -1639 consensus                 \n",
       "High      *1/*1            A/A                        NaN   26.0  \n",
       "                           A/G                       24.0  297.0  \n",
       "                           G/G                       57.0  380.0  \n",
       "          *1/*11           A/A                        NaN    NaN  \n",
       "                           A/G                        NaN    1.0  "
      ]
     },
     "execution_count": 52,
     "metadata": {},
     "output_type": "execute_result"
    }
   ],
   "source": [
    "pivot_df = pd.pivot_table(race_genes.reset_index(),\n",
    "                          values=['count'],\n",
    "                          columns=['Race (OMB)'], \n",
    "                          index=[\"Dose Type\", \"CYP2C9 consensus\", \"VKORC1 -1639 consensus\"])\n",
    "pivot_df.head()"
   ]
  },
  {
   "cell_type": "code",
   "execution_count": 53,
   "metadata": {},
   "outputs": [
    {
     "data": {
      "text/plain": [
       "[<matplotlib.text.Text at 0x11f385b38>,\n",
       " <matplotlib.text.Text at 0x11f39b358>,\n",
       " <matplotlib.text.Text at 0x11f37ecf8>,\n",
       " <matplotlib.text.Text at 0x11f3f2d68>]"
      ]
     },
     "execution_count": 53,
     "metadata": {},
     "output_type": "execute_result"
    },
    {
     "data": {
      "image/png": "[encoded data removed]",
      "text/plain": [
       "<matplotlib.figure.Figure at 0x11f0f70b8>"
      ]
     },
     "metadata": {},
     "output_type": "display_data"
    }
   ],
   "source": [
    "sns.set(font_scale=1.5)\n",
    "fig, ax = plt.subplots(figsize=(12, 8))\n",
    "sns.heatmap(pivot_df.dropna(), cmap=sns.cubehelix_palette(10, start=.5, rot=-.75, as_cmap=True), linewidths=1, ax=ax)\n",
    "ax.set_xticklabels(['Asian', 'Black or African American', 'Unknown', 'White'])"
   ]
  },
  {
   "cell_type": "markdown",
   "metadata": {},
   "source": [
    "- Even clearer, we can see **low dosage** is common for Asians with \\*1/\\*1 AND A/A.\n",
    "- For African Americans and Whites, it is common to have a **high dosage** with \\*1/\\*1 and G/G. \n",
    "\n",
    "<br>\n",
    "Now, let's try to see if we can fit linear regression models to predict therapeutic dose.\n",
    "\n",
    "---\n",
    "\n",
    "# Predicting Therapeutic Dosage"
   ]
  },
  {
   "cell_type": "markdown",
   "metadata": {},
   "source": [
    "### Encoded Copy of Data based on [warfarin_vars.txt](warfarin_vars.txt)"
   ]
  },
  {
   "cell_type": "code",
   "execution_count": 54,
   "metadata": {},
   "outputs": [
    {
     "data": {
      "text/plain": [
       "array(['No Cancer', 'Cancer', nan, ...,\n",
       "       'high cholesterol; atrial fibrilation; congestive heart failure; coronary artery disease; myocardial infarction; coronary artery bypass surgery; stent; diabetes mellitus; renal insufficiency',\n",
       "       'hypertension; high cholesterol; congestive heart failure; coronary artery disease; diabetes mellitus; renal insufficiency',\n",
       "       'hypertension; high cholesterol; cancer'], dtype=object)"
      ]
     },
     "execution_count": 54,
     "metadata": {},
     "output_type": "execute_result"
    }
   ],
   "source": [
    "raw_df.Comorbidities.unique()"
   ]
  },
  {
   "cell_type": "code",
   "execution_count": 55,
   "metadata": {
    "collapsed": true
   },
   "outputs": [],
   "source": [
    "warf_df = pd.DataFrame(raw_df[[\"Height (cm)\", \"Weight (kg)\", \"Target INR\", \"Therapeutic Dose of Warfarin\", \"Subject Reached Stable Dose of Warfarin\", \"Current Smoker\"]])\n",
    "# warf_df = pd.DataFrame(raw_df[[\"Therapeutic Dose of Warfarin\"]])"
   ]
  },
  {
   "cell_type": "markdown",
   "metadata": {},
   "source": [
    "Copy continuos variables "
   ]
  },
  {
   "cell_type": "code",
   "execution_count": 56,
   "metadata": {
    "collapsed": true
   },
   "outputs": [],
   "source": [
    "def encode(val, ref, invalid):\n",
    "    if val in ref.keys():\n",
    "        return ref[val]\n",
    "    else:\n",
    "        return invalid"
   ]
  },
  {
   "cell_type": "markdown",
   "metadata": {},
   "source": [
    "Encode age based on decade, fill as 0 if unknown"
   ]
  },
  {
   "cell_type": "code",
   "execution_count": 57,
   "metadata": {
    "collapsed": true
   },
   "outputs": [],
   "source": [
    "age_ref = {\"10 - 19\": 1, \"20 - 29\": 2, \"30 - 39\": 3, \"40 - 49\": 4, \n",
    "            \"50 - 59\": 5, \"60 - 69\": 6, \"70 - 79\": 7, \"80 - 89\": 8, \n",
    "            \"90+\": 9}\n",
    "warf_df[\"Age\"] = raw_df[\"Age\"].apply(encode, args=(age_ref, 0)).astype('int')\n",
    "# warf_df.head()"
   ]
  },
  {
   "cell_type": "markdown",
   "metadata": {},
   "source": [
    "Encode VKORC1, fill as 0 otherwise"
   ]
  },
  {
   "cell_type": "code",
   "execution_count": 58,
   "metadata": {
    "collapsed": true
   },
   "outputs": [],
   "source": [
    "warf_df[\"VKORC1_AG\"] = raw_df[\"VKORC1 -1639 consensus\"].apply(lambda x: 1 if x == \"A/G\" else 0).astype('int')\n",
    "warf_df[\"VKORC1_AA\"] = raw_df[\"VKORC1 -1639 consensus\"].apply(lambda x: 1 if x == \"A/A\" else 0).astype('int')\n",
    "# warf_df.head()"
   ]
  },
  {
   "cell_type": "markdown",
   "metadata": {},
   "source": [
    "Encode CYP2C9, fill as 0 otherwise"
   ]
  },
  {
   "cell_type": "code",
   "execution_count": 59,
   "metadata": {
    "collapsed": true
   },
   "outputs": [],
   "source": [
    "warf_df[\"CYP2C9_12\"] = raw_df[\"CYP2C9 consensus\"].apply(lambda x: 1 if x == \"*1/*2\" else 0).astype('int')\n",
    "warf_df[\"CYP2C9_13\"] = raw_df[\"CYP2C9 consensus\"].apply(lambda x: 1 if x == \"*1/*3\" else 0).astype('int')\n",
    "warf_df[\"CYP2C9_22\"] = raw_df[\"CYP2C9 consensus\"].apply(lambda x: 1 if x == \"*2/*2\" else 0).astype('int')\n",
    "warf_df[\"CYP2C9_23\"] = raw_df[\"CYP2C9 consensus\"].apply(lambda x: 1 if x == \"*2/*3\" else 0).astype('int')\n",
    "warf_df[\"CYP2C9_33\"] = raw_df[\"CYP2C9 consensus\"].apply(lambda x: 1 if x == \"*3/*3\" else 0).astype('int')\n",
    "warf_df[\"CYP2C9_unknown\"] = raw_df[\"CYP2C9 consensus\"].apply(lambda x: 1 if x == np.nan else 0).astype('int')\n",
    "# warf_df.head()"
   ]
  },
  {
   "cell_type": "markdown",
   "metadata": {},
   "source": [
    "Encode race, fill with 0 if not in reference"
   ]
  },
  {
   "cell_type": "code",
   "execution_count": 60,
   "metadata": {
    "collapsed": true
   },
   "outputs": [],
   "source": [
    "asian = ['Japanese', 'Han Chinese', 'Asian','Korean', 'Malay', 'Chinese', 'Indian']\n",
    "black = ['African-American', 'Black','Black or African American','Black Caribbean','Other (Black British)',\n",
    "         'Black African','Black other']\n",
    "missing_mixed = ['Other Mixed Race','other', np.nan,'Other','Intermediate']\n",
    "warf_df[\"Asian\"] = raw_df[\"Race (Reported)\"].apply(lambda x: 1 if x in asian else 0).astype('int')\n",
    "warf_df[\"Black\"] = raw_df[\"Race (Reported)\"].apply(lambda x: 1 if x in black else 0).astype('int')\n",
    "warf_df[\"Missing_Mixed\"] = raw_df[\"Race (Reported)\"].apply(lambda x: 1 if x in missing_mixed else 0).astype('int')\n",
    "# warf_df.head()"
   ]
  },
  {
   "cell_type": "markdown",
   "metadata": {},
   "source": [
    "Encode ethnicity, fill with 0 if not in reference"
   ]
  },
  {
   "cell_type": "code",
   "execution_count": 61,
   "metadata": {
    "collapsed": true
   },
   "outputs": [],
   "source": [
    "ethnicity = {'not Hispanic or Latino':1 , 'Hispanic or Latino': 2, 'Unknown': 0}\n",
    "warf_df[\"Ethnicity_encoded\"] = raw_df[\"Ethnicity (OMB)\"].apply(encode, args=[ethnicity, 0]).astype('int')"
   ]
  },
  {
   "cell_type": "code",
   "execution_count": 62,
   "metadata": {
    "collapsed": true,
    "scrolled": true
   },
   "outputs": [],
   "source": [
    "def encode_amiodarone(med_str): \n",
    "    if isinstance(med_str, str):\n",
    "        med_list = med_str.split(\";\")\n",
    "        if 'amiodarone' in med_list: \n",
    "            return 1\n",
    "    return 0 # not string or no amidarone\n",
    "\n",
    "warf_df[\"Amiodarone_status\"] = raw_df[\"Medications\"].apply(encode_amiodarone).astype('int')\n",
    "# warf_df.head()\n",
    "# warf_df[warf_df[\"Amiodarone_status\"] == 1] "
   ]
  },
  {
   "cell_type": "code",
   "execution_count": 63,
   "metadata": {
    "collapsed": true
   },
   "outputs": [],
   "source": [
    "def encode_enzyme_inducer_status(med_str):\n",
    "    enz_ind_ref = [\"rifampin\", \"carbamazepine\", \"phenytoin\", \"rifampicin\"]\n",
    "    if isinstance(med_str, str):\n",
    "        med_list = med_str.split(\";\")\n",
    "        for med in med_list: \n",
    "            if med in enz_ind_ref: \n",
    "                return 1\n",
    "    return 0\n",
    "\n",
    "warf_df[\"Enzyme_inducer_status\"] = raw_df[\"Medications\"].apply(encode_enzyme_inducer_status).astype('int')\n",
    "# warf_df.head()\n",
    "# warf_df[warf_df[\"Enzyme_inducer_status\"] == 1][[\"Medications\", \"Enzyme_inducer_status\"]]"
   ]
  },
  {
   "cell_type": "code",
   "execution_count": 64,
   "metadata": {
    "collapsed": true,
    "scrolled": false
   },
   "outputs": [],
   "source": [
    "indications = []\n",
    "for inds in raw_df[\"Indication for Warfarin Treatment\"].dropna().unique():\n",
    "    ind_list = inds.replace(\" \", \"\").split(\";\")\n",
    "    for ind in ind_list:\n",
    "        if (ind == '1or2') or (ind == '1,2'):\n",
    "            continue\n",
    "        if ind not in indications:\n",
    "            indications.append(ind)\n",
    "\n",
    "ind_names = [\"Indication_{}\".format(x) for x in indications]\n",
    "ind_dict = dict(zip(ind_names, indications))\n",
    "\n",
    "pd.concat([warf_df, pd.DataFrame(columns=ind_names)])\n",
    "\n",
    "def encode_indication(ind_str, indication):\n",
    "    if isinstance(ind_str, str):\n",
    "        ind_list = ind_str.replace(\" \", \"\").split(\";\")\n",
    "        for ind in ind_list: \n",
    "            if ind == indication:\n",
    "                return 1\n",
    "    return 0\n",
    "\n",
    "\n",
    "for col in ind_names:\n",
    "    warf_df[col] = raw_df[\"Indication for Warfarin Treatment\"].apply(encode_indication, args=[ind_dict[col]])"
   ]
  },
  {
   "cell_type": "code",
   "execution_count": 65,
   "metadata": {},
   "outputs": [
    {
     "data": {
      "text/html": [
       "<div>\n",
       "<style>\n",
       "    .dataframe thead tr:only-child th {\n",
       "        text-align: right;\n",
       "    }\n",
       "\n",
       "    .dataframe thead th {\n",
       "        text-align: left;\n",
       "    }\n",
       "\n",
       "    .dataframe tbody tr th {\n",
       "        vertical-align: top;\n",
       "    }\n",
       "</style>\n",
       "<table border=\"1\" class=\"dataframe\">\n",
       "  <thead>\n",
       "    <tr style=\"text-align: right;\">\n",
       "      <th></th>\n",
       "      <th>Height (cm)</th>\n",
       "      <th>Weight (kg)</th>\n",
       "      <th>Target INR</th>\n",
       "      <th>Therapeutic Dose of Warfarin</th>\n",
       "      <th>Subject Reached Stable Dose of Warfarin</th>\n",
       "      <th>Current Smoker</th>\n",
       "      <th>Age</th>\n",
       "      <th>VKORC1_AG</th>\n",
       "      <th>VKORC1_AA</th>\n",
       "      <th>CYP2C9_12</th>\n",
       "      <th>...</th>\n",
       "      <th>Amiodarone_status</th>\n",
       "      <th>Enzyme_inducer_status</th>\n",
       "      <th>Indication_7</th>\n",
       "      <th>Indication_3</th>\n",
       "      <th>Indication_8</th>\n",
       "      <th>Indication_1</th>\n",
       "      <th>Indication_2</th>\n",
       "      <th>Indication_4</th>\n",
       "      <th>Indication_5</th>\n",
       "      <th>Indication_6</th>\n",
       "    </tr>\n",
       "  </thead>\n",
       "  <tbody>\n",
       "    <tr>\n",
       "      <th>0</th>\n",
       "      <td>193.04</td>\n",
       "      <td>115.7</td>\n",
       "      <td>2.5</td>\n",
       "      <td>49.0</td>\n",
       "      <td>1.0</td>\n",
       "      <td>0.0</td>\n",
       "      <td>6</td>\n",
       "      <td>1</td>\n",
       "      <td>0</td>\n",
       "      <td>0</td>\n",
       "      <td>...</td>\n",
       "      <td>0</td>\n",
       "      <td>0</td>\n",
       "      <td>1</td>\n",
       "      <td>0</td>\n",
       "      <td>0</td>\n",
       "      <td>0</td>\n",
       "      <td>0</td>\n",
       "      <td>0</td>\n",
       "      <td>0</td>\n",
       "      <td>0</td>\n",
       "    </tr>\n",
       "    <tr>\n",
       "      <th>1</th>\n",
       "      <td>176.53</td>\n",
       "      <td>144.2</td>\n",
       "      <td>2.5</td>\n",
       "      <td>42.0</td>\n",
       "      <td>1.0</td>\n",
       "      <td>1.0</td>\n",
       "      <td>5</td>\n",
       "      <td>0</td>\n",
       "      <td>1</td>\n",
       "      <td>0</td>\n",
       "      <td>...</td>\n",
       "      <td>0</td>\n",
       "      <td>0</td>\n",
       "      <td>1</td>\n",
       "      <td>0</td>\n",
       "      <td>0</td>\n",
       "      <td>0</td>\n",
       "      <td>0</td>\n",
       "      <td>0</td>\n",
       "      <td>0</td>\n",
       "      <td>0</td>\n",
       "    </tr>\n",
       "    <tr>\n",
       "      <th>2</th>\n",
       "      <td>162.56</td>\n",
       "      <td>77.1</td>\n",
       "      <td>2.5</td>\n",
       "      <td>53.0</td>\n",
       "      <td>1.0</td>\n",
       "      <td>0.0</td>\n",
       "      <td>4</td>\n",
       "      <td>0</td>\n",
       "      <td>0</td>\n",
       "      <td>0</td>\n",
       "      <td>...</td>\n",
       "      <td>0</td>\n",
       "      <td>0</td>\n",
       "      <td>1</td>\n",
       "      <td>0</td>\n",
       "      <td>0</td>\n",
       "      <td>0</td>\n",
       "      <td>0</td>\n",
       "      <td>0</td>\n",
       "      <td>0</td>\n",
       "      <td>0</td>\n",
       "    </tr>\n",
       "    <tr>\n",
       "      <th>3</th>\n",
       "      <td>182.24</td>\n",
       "      <td>90.7</td>\n",
       "      <td>2.5</td>\n",
       "      <td>28.0</td>\n",
       "      <td>1.0</td>\n",
       "      <td>0.0</td>\n",
       "      <td>6</td>\n",
       "      <td>1</td>\n",
       "      <td>0</td>\n",
       "      <td>0</td>\n",
       "      <td>...</td>\n",
       "      <td>0</td>\n",
       "      <td>0</td>\n",
       "      <td>1</td>\n",
       "      <td>0</td>\n",
       "      <td>0</td>\n",
       "      <td>0</td>\n",
       "      <td>0</td>\n",
       "      <td>0</td>\n",
       "      <td>0</td>\n",
       "      <td>0</td>\n",
       "    </tr>\n",
       "    <tr>\n",
       "      <th>4</th>\n",
       "      <td>167.64</td>\n",
       "      <td>72.6</td>\n",
       "      <td>2.5</td>\n",
       "      <td>42.0</td>\n",
       "      <td>1.0</td>\n",
       "      <td>0.0</td>\n",
       "      <td>5</td>\n",
       "      <td>1</td>\n",
       "      <td>0</td>\n",
       "      <td>0</td>\n",
       "      <td>...</td>\n",
       "      <td>0</td>\n",
       "      <td>0</td>\n",
       "      <td>1</td>\n",
       "      <td>0</td>\n",
       "      <td>0</td>\n",
       "      <td>0</td>\n",
       "      <td>0</td>\n",
       "      <td>0</td>\n",
       "      <td>0</td>\n",
       "      <td>0</td>\n",
       "    </tr>\n",
       "  </tbody>\n",
       "</table>\n",
       "<p>5 rows × 29 columns</p>\n",
       "</div>"
      ],
      "text/plain": [
       "   Height (cm)  Weight (kg)  Target INR  Therapeutic Dose of Warfarin  \\\n",
       "0       193.04        115.7         2.5                          49.0   \n",
       "1       176.53        144.2         2.5                          42.0   \n",
       "2       162.56         77.1         2.5                          53.0   \n",
       "3       182.24         90.7         2.5                          28.0   \n",
       "4       167.64         72.6         2.5                          42.0   \n",
       "\n",
       "   Subject Reached Stable Dose of Warfarin  Current Smoker  Age  VKORC1_AG  \\\n",
       "0                                      1.0             0.0    6          1   \n",
       "1                                      1.0             1.0    5          0   \n",
       "2                                      1.0             0.0    4          0   \n",
       "3                                      1.0             0.0    6          1   \n",
       "4                                      1.0             0.0    5          1   \n",
       "\n",
       "   VKORC1_AA  CYP2C9_12      ...       Amiodarone_status  \\\n",
       "0          0          0      ...                       0   \n",
       "1          1          0      ...                       0   \n",
       "2          0          0      ...                       0   \n",
       "3          0          0      ...                       0   \n",
       "4          0          0      ...                       0   \n",
       "\n",
       "   Enzyme_inducer_status  Indication_7  Indication_3  Indication_8  \\\n",
       "0                      0             1             0             0   \n",
       "1                      0             1             0             0   \n",
       "2                      0             1             0             0   \n",
       "3                      0             1             0             0   \n",
       "4                      0             1             0             0   \n",
       "\n",
       "   Indication_1  Indication_2  Indication_4  Indication_5  Indication_6  \n",
       "0             0             0             0             0             0  \n",
       "1             0             0             0             0             0  \n",
       "2             0             0             0             0             0  \n",
       "3             0             0             0             0             0  \n",
       "4             0             0             0             0             0  \n",
       "\n",
       "[5 rows x 29 columns]"
      ]
     },
     "execution_count": 65,
     "metadata": {},
     "output_type": "execute_result"
    }
   ],
   "source": [
    "warf_df.head(5)"
   ]
  },
  {
   "cell_type": "code",
   "execution_count": 66,
   "metadata": {
    "collapsed": true
   },
   "outputs": [],
   "source": [
    "# comorbidities = []\n",
    "# for diseases in raw_df.Comorbidities.dropna().unique():\n",
    "#     disease_list = diseases.split(\";\")\n",
    "#     for disease in disease_list:\n",
    "#         if disease.upper() not in comorbidities:\n",
    "#             comorbidities.append(disease.upper())\n",
    "            \n",
    "def encode_liver_disease(comorbid_str): \n",
    "    if isinstance(comorbid_str, str):\n",
    "        disease_list = comorbid_str.split(\";\")\n",
    "        for disease in disease_list: \n",
    "            if disease == 'LIVER DISEASE': \n",
    "                return 1\n",
    "    return 0\n",
    "warf_df[\"Liver Disease\"] = raw_df[\"Comorbidities\"].apply(encode_liver_disease).astype('int')"
   ]
  },
  {
   "cell_type": "markdown",
   "metadata": {},
   "source": [
    "Convert 'Stable Dose' and 'Current Smoker' types to boolean. "
   ]
  },
  {
   "cell_type": "code",
   "execution_count": 67,
   "metadata": {
    "collapsed": true
   },
   "outputs": [],
   "source": [
    "warf_df[\"Subject Reached Stable Dose of Warfarin\"] = raw_df[\"Subject Reached Stable Dose of Warfarin\"].astype('bool')"
   ]
  },
  {
   "cell_type": "code",
   "execution_count": 68,
   "metadata": {
    "collapsed": true
   },
   "outputs": [],
   "source": [
    "warf_df[\"Current Smoker\"] = raw_df[\"Current Smoker\"].astype('bool')"
   ]
  },
  {
   "cell_type": "code",
   "execution_count": 69,
   "metadata": {},
   "outputs": [
    {
     "data": {
      "text/plain": [
       "Height (cm)                                float64\n",
       "Weight (kg)                                float64\n",
       "Target INR                                 float64\n",
       "Therapeutic Dose of Warfarin               float64\n",
       "Subject Reached Stable Dose of Warfarin       bool\n",
       "Current Smoker                                bool\n",
       "Age                                          int64\n",
       "VKORC1_AG                                    int64\n",
       "VKORC1_AA                                    int64\n",
       "CYP2C9_12                                    int64\n",
       "CYP2C9_13                                    int64\n",
       "CYP2C9_22                                    int64\n",
       "CYP2C9_23                                    int64\n",
       "CYP2C9_33                                    int64\n",
       "CYP2C9_unknown                               int64\n",
       "Asian                                        int64\n",
       "Black                                        int64\n",
       "Missing_Mixed                                int64\n",
       "Ethnicity_encoded                            int64\n",
       "Amiodarone_status                            int64\n",
       "Enzyme_inducer_status                        int64\n",
       "Indication_7                                 int64\n",
       "Indication_3                                 int64\n",
       "Indication_8                                 int64\n",
       "Indication_1                                 int64\n",
       "Indication_2                                 int64\n",
       "Indication_4                                 int64\n",
       "Indication_5                                 int64\n",
       "Indication_6                                 int64\n",
       "Liver Disease                                int64\n",
       "dtype: object"
      ]
     },
     "execution_count": 69,
     "metadata": {},
     "output_type": "execute_result"
    }
   ],
   "source": [
    "warf_df.dtypes"
   ]
  },
  {
   "cell_type": "code",
   "execution_count": 70,
   "metadata": {},
   "outputs": [
    {
     "data": {
      "text/html": [
       "<div>\n",
       "<style>\n",
       "    .dataframe thead tr:only-child th {\n",
       "        text-align: right;\n",
       "    }\n",
       "\n",
       "    .dataframe thead th {\n",
       "        text-align: left;\n",
       "    }\n",
       "\n",
       "    .dataframe tbody tr th {\n",
       "        vertical-align: top;\n",
       "    }\n",
       "</style>\n",
       "<table border=\"1\" class=\"dataframe\">\n",
       "  <thead>\n",
       "    <tr style=\"text-align: right;\">\n",
       "      <th></th>\n",
       "      <th>Height (cm)</th>\n",
       "      <th>Weight (kg)</th>\n",
       "      <th>Target INR</th>\n",
       "      <th>Therapeutic Dose of Warfarin</th>\n",
       "      <th>Age</th>\n",
       "      <th>VKORC1_AG</th>\n",
       "      <th>VKORC1_AA</th>\n",
       "      <th>CYP2C9_12</th>\n",
       "      <th>CYP2C9_13</th>\n",
       "      <th>CYP2C9_22</th>\n",
       "      <th>...</th>\n",
       "      <th>Enzyme_inducer_status</th>\n",
       "      <th>Indication_7</th>\n",
       "      <th>Indication_3</th>\n",
       "      <th>Indication_8</th>\n",
       "      <th>Indication_1</th>\n",
       "      <th>Indication_2</th>\n",
       "      <th>Indication_4</th>\n",
       "      <th>Indication_5</th>\n",
       "      <th>Indication_6</th>\n",
       "      <th>Liver Disease</th>\n",
       "    </tr>\n",
       "  </thead>\n",
       "  <tbody>\n",
       "    <tr>\n",
       "      <th>count</th>\n",
       "      <td>4554.000000</td>\n",
       "      <td>5413.000000</td>\n",
       "      <td>1259.000000</td>\n",
       "      <td>5528.000000</td>\n",
       "      <td>5700.000000</td>\n",
       "      <td>5700.000000</td>\n",
       "      <td>5700.000000</td>\n",
       "      <td>5700.000000</td>\n",
       "      <td>5700.000000</td>\n",
       "      <td>5700.000000</td>\n",
       "      <td>...</td>\n",
       "      <td>5700.000000</td>\n",
       "      <td>5700.000000</td>\n",
       "      <td>5700.000000</td>\n",
       "      <td>5700.000000</td>\n",
       "      <td>5700.000000</td>\n",
       "      <td>5700.000000</td>\n",
       "      <td>5700.000000</td>\n",
       "      <td>5700.000000</td>\n",
       "      <td>5700.000000</td>\n",
       "      <td>5700.0</td>\n",
       "    </tr>\n",
       "    <tr>\n",
       "      <th>mean</th>\n",
       "      <td>168.047811</td>\n",
       "      <td>77.853057</td>\n",
       "      <td>2.538324</td>\n",
       "      <td>30.977873</td>\n",
       "      <td>5.877895</td>\n",
       "      <td>0.257895</td>\n",
       "      <td>0.260526</td>\n",
       "      <td>0.129298</td>\n",
       "      <td>0.087368</td>\n",
       "      <td>0.009825</td>\n",
       "      <td>...</td>\n",
       "      <td>0.000877</td>\n",
       "      <td>0.023158</td>\n",
       "      <td>0.391404</td>\n",
       "      <td>0.178947</td>\n",
       "      <td>0.075088</td>\n",
       "      <td>0.064386</td>\n",
       "      <td>0.192281</td>\n",
       "      <td>0.022281</td>\n",
       "      <td>0.038421</td>\n",
       "      <td>0.0</td>\n",
       "    </tr>\n",
       "    <tr>\n",
       "      <th>std</th>\n",
       "      <td>10.846051</td>\n",
       "      <td>21.860018</td>\n",
       "      <td>0.198140</td>\n",
       "      <td>16.801040</td>\n",
       "      <td>1.561233</td>\n",
       "      <td>0.437514</td>\n",
       "      <td>0.438960</td>\n",
       "      <td>0.335559</td>\n",
       "      <td>0.282399</td>\n",
       "      <td>0.098639</td>\n",
       "      <td>...</td>\n",
       "      <td>0.029607</td>\n",
       "      <td>0.150418</td>\n",
       "      <td>0.488107</td>\n",
       "      <td>0.383342</td>\n",
       "      <td>0.263556</td>\n",
       "      <td>0.245461</td>\n",
       "      <td>0.394127</td>\n",
       "      <td>0.147608</td>\n",
       "      <td>0.192227</td>\n",
       "      <td>0.0</td>\n",
       "    </tr>\n",
       "    <tr>\n",
       "      <th>min</th>\n",
       "      <td>124.970000</td>\n",
       "      <td>30.000000</td>\n",
       "      <td>1.300000</td>\n",
       "      <td>2.100000</td>\n",
       "      <td>0.000000</td>\n",
       "      <td>0.000000</td>\n",
       "      <td>0.000000</td>\n",
       "      <td>0.000000</td>\n",
       "      <td>0.000000</td>\n",
       "      <td>0.000000</td>\n",
       "      <td>...</td>\n",
       "      <td>0.000000</td>\n",
       "      <td>0.000000</td>\n",
       "      <td>0.000000</td>\n",
       "      <td>0.000000</td>\n",
       "      <td>0.000000</td>\n",
       "      <td>0.000000</td>\n",
       "      <td>0.000000</td>\n",
       "      <td>0.000000</td>\n",
       "      <td>0.000000</td>\n",
       "      <td>0.0</td>\n",
       "    </tr>\n",
       "    <tr>\n",
       "      <th>25%</th>\n",
       "      <td>160.020000</td>\n",
       "      <td>62.000000</td>\n",
       "      <td>2.500000</td>\n",
       "      <td>19.530000</td>\n",
       "      <td>5.000000</td>\n",
       "      <td>0.000000</td>\n",
       "      <td>0.000000</td>\n",
       "      <td>0.000000</td>\n",
       "      <td>0.000000</td>\n",
       "      <td>0.000000</td>\n",
       "      <td>...</td>\n",
       "      <td>0.000000</td>\n",
       "      <td>0.000000</td>\n",
       "      <td>0.000000</td>\n",
       "      <td>0.000000</td>\n",
       "      <td>0.000000</td>\n",
       "      <td>0.000000</td>\n",
       "      <td>0.000000</td>\n",
       "      <td>0.000000</td>\n",
       "      <td>0.000000</td>\n",
       "      <td>0.0</td>\n",
       "    </tr>\n",
       "    <tr>\n",
       "      <th>50%</th>\n",
       "      <td>167.890000</td>\n",
       "      <td>75.000000</td>\n",
       "      <td>2.500000</td>\n",
       "      <td>28.000000</td>\n",
       "      <td>6.000000</td>\n",
       "      <td>0.000000</td>\n",
       "      <td>0.000000</td>\n",
       "      <td>0.000000</td>\n",
       "      <td>0.000000</td>\n",
       "      <td>0.000000</td>\n",
       "      <td>...</td>\n",
       "      <td>0.000000</td>\n",
       "      <td>0.000000</td>\n",
       "      <td>0.000000</td>\n",
       "      <td>0.000000</td>\n",
       "      <td>0.000000</td>\n",
       "      <td>0.000000</td>\n",
       "      <td>0.000000</td>\n",
       "      <td>0.000000</td>\n",
       "      <td>0.000000</td>\n",
       "      <td>0.0</td>\n",
       "    </tr>\n",
       "    <tr>\n",
       "      <th>75%</th>\n",
       "      <td>176.020000</td>\n",
       "      <td>90.000000</td>\n",
       "      <td>2.500000</td>\n",
       "      <td>38.500000</td>\n",
       "      <td>7.000000</td>\n",
       "      <td>1.000000</td>\n",
       "      <td>1.000000</td>\n",
       "      <td>0.000000</td>\n",
       "      <td>0.000000</td>\n",
       "      <td>0.000000</td>\n",
       "      <td>...</td>\n",
       "      <td>0.000000</td>\n",
       "      <td>0.000000</td>\n",
       "      <td>1.000000</td>\n",
       "      <td>0.000000</td>\n",
       "      <td>0.000000</td>\n",
       "      <td>0.000000</td>\n",
       "      <td>0.000000</td>\n",
       "      <td>0.000000</td>\n",
       "      <td>0.000000</td>\n",
       "      <td>0.0</td>\n",
       "    </tr>\n",
       "    <tr>\n",
       "      <th>max</th>\n",
       "      <td>202.000000</td>\n",
       "      <td>237.700000</td>\n",
       "      <td>3.500000</td>\n",
       "      <td>315.000000</td>\n",
       "      <td>9.000000</td>\n",
       "      <td>1.000000</td>\n",
       "      <td>1.000000</td>\n",
       "      <td>1.000000</td>\n",
       "      <td>1.000000</td>\n",
       "      <td>1.000000</td>\n",
       "      <td>...</td>\n",
       "      <td>1.000000</td>\n",
       "      <td>1.000000</td>\n",
       "      <td>1.000000</td>\n",
       "      <td>1.000000</td>\n",
       "      <td>1.000000</td>\n",
       "      <td>1.000000</td>\n",
       "      <td>1.000000</td>\n",
       "      <td>1.000000</td>\n",
       "      <td>1.000000</td>\n",
       "      <td>0.0</td>\n",
       "    </tr>\n",
       "  </tbody>\n",
       "</table>\n",
       "<p>8 rows × 28 columns</p>\n",
       "</div>"
      ],
      "text/plain": [
       "       Height (cm)  Weight (kg)   Target INR  Therapeutic Dose of Warfarin  \\\n",
       "count  4554.000000  5413.000000  1259.000000                   5528.000000   \n",
       "mean    168.047811    77.853057     2.538324                     30.977873   \n",
       "std      10.846051    21.860018     0.198140                     16.801040   \n",
       "min     124.970000    30.000000     1.300000                      2.100000   \n",
       "25%     160.020000    62.000000     2.500000                     19.530000   \n",
       "50%     167.890000    75.000000     2.500000                     28.000000   \n",
       "75%     176.020000    90.000000     2.500000                     38.500000   \n",
       "max     202.000000   237.700000     3.500000                    315.000000   \n",
       "\n",
       "               Age    VKORC1_AG    VKORC1_AA    CYP2C9_12    CYP2C9_13  \\\n",
       "count  5700.000000  5700.000000  5700.000000  5700.000000  5700.000000   \n",
       "mean      5.877895     0.257895     0.260526     0.129298     0.087368   \n",
       "std       1.561233     0.437514     0.438960     0.335559     0.282399   \n",
       "min       0.000000     0.000000     0.000000     0.000000     0.000000   \n",
       "25%       5.000000     0.000000     0.000000     0.000000     0.000000   \n",
       "50%       6.000000     0.000000     0.000000     0.000000     0.000000   \n",
       "75%       7.000000     1.000000     1.000000     0.000000     0.000000   \n",
       "max       9.000000     1.000000     1.000000     1.000000     1.000000   \n",
       "\n",
       "         CYP2C9_22      ...        Enzyme_inducer_status  Indication_7  \\\n",
       "count  5700.000000      ...                  5700.000000   5700.000000   \n",
       "mean      0.009825      ...                     0.000877      0.023158   \n",
       "std       0.098639      ...                     0.029607      0.150418   \n",
       "min       0.000000      ...                     0.000000      0.000000   \n",
       "25%       0.000000      ...                     0.000000      0.000000   \n",
       "50%       0.000000      ...                     0.000000      0.000000   \n",
       "75%       0.000000      ...                     0.000000      0.000000   \n",
       "max       1.000000      ...                     1.000000      1.000000   \n",
       "\n",
       "       Indication_3  Indication_8  Indication_1  Indication_2  Indication_4  \\\n",
       "count   5700.000000   5700.000000   5700.000000   5700.000000   5700.000000   \n",
       "mean       0.391404      0.178947      0.075088      0.064386      0.192281   \n",
       "std        0.488107      0.383342      0.263556      0.245461      0.394127   \n",
       "min        0.000000      0.000000      0.000000      0.000000      0.000000   \n",
       "25%        0.000000      0.000000      0.000000      0.000000      0.000000   \n",
       "50%        0.000000      0.000000      0.000000      0.000000      0.000000   \n",
       "75%        1.000000      0.000000      0.000000      0.000000      0.000000   \n",
       "max        1.000000      1.000000      1.000000      1.000000      1.000000   \n",
       "\n",
       "       Indication_5  Indication_6  Liver Disease  \n",
       "count   5700.000000   5700.000000         5700.0  \n",
       "mean       0.022281      0.038421            0.0  \n",
       "std        0.147608      0.192227            0.0  \n",
       "min        0.000000      0.000000            0.0  \n",
       "25%        0.000000      0.000000            0.0  \n",
       "50%        0.000000      0.000000            0.0  \n",
       "75%        0.000000      0.000000            0.0  \n",
       "max        1.000000      1.000000            0.0  \n",
       "\n",
       "[8 rows x 28 columns]"
      ]
     },
     "execution_count": 70,
     "metadata": {},
     "output_type": "execute_result"
    }
   ],
   "source": [
    "warf_df.describe()"
   ]
  },
  {
   "cell_type": "markdown",
   "metadata": {},
   "source": [
    "Filter Dataset"
   ]
  },
  {
   "cell_type": "code",
   "execution_count": 71,
   "metadata": {},
   "outputs": [
    {
     "data": {
      "text/plain": [
       "Index(['Height (cm)', 'Weight (kg)', 'Target INR',\n",
       "       'Therapeutic Dose of Warfarin',\n",
       "       'Subject Reached Stable Dose of Warfarin', 'Current Smoker', 'Age',\n",
       "       'VKORC1_AG', 'VKORC1_AA', 'CYP2C9_12', 'CYP2C9_13', 'CYP2C9_22',\n",
       "       'CYP2C9_23', 'CYP2C9_33', 'CYP2C9_unknown', 'Asian', 'Black',\n",
       "       'Missing_Mixed', 'Ethnicity_encoded', 'Amiodarone_status',\n",
       "       'Enzyme_inducer_status', 'Indication_7', 'Indication_3', 'Indication_8',\n",
       "       'Indication_1', 'Indication_2', 'Indication_4', 'Indication_5',\n",
       "       'Indication_6', 'Liver Disease'],\n",
       "      dtype='object')"
      ]
     },
     "execution_count": 71,
     "metadata": {},
     "output_type": "execute_result"
    }
   ],
   "source": [
    "warf_df.columns"
   ]
  },
  {
   "cell_type": "code",
   "execution_count": 72,
   "metadata": {},
   "outputs": [
    {
     "data": {
      "text/plain": [
       "(5700, 30)"
      ]
     },
     "execution_count": 72,
     "metadata": {},
     "output_type": "execute_result"
    }
   ],
   "source": [
    "warf_df.shape"
   ]
  },
  {
   "cell_type": "code",
   "execution_count": 73,
   "metadata": {
    "collapsed": true
   },
   "outputs": [],
   "source": [
    "warf_df.fillna(0, inplace=True)"
   ]
  },
  {
   "cell_type": "code",
   "execution_count": 74,
   "metadata": {
    "scrolled": true
   },
   "outputs": [
    {
     "data": {
      "text/plain": [
       "(5700, 30)"
      ]
     },
     "execution_count": 74,
     "metadata": {},
     "output_type": "execute_result"
    }
   ],
   "source": [
    "warf_df.shape"
   ]
  },
  {
   "cell_type": "markdown",
   "metadata": {},
   "source": [
    "## Linear Regression (Ordinary Least Squares)"
   ]
  },
  {
   "cell_type": "code",
   "execution_count": 75,
   "metadata": {},
   "outputs": [
    {
     "name": "stdout",
     "output_type": "stream",
     "text": [
      "4560 1140\n"
     ]
    }
   ],
   "source": [
    "from sklearn.model_selection import train_test_split\n",
    "\n",
    "train, test = train_test_split(warf_df, test_size=0.2)\n",
    "print(len(train), len(test))"
   ]
  },
  {
   "cell_type": "code",
   "execution_count": 76,
   "metadata": {
    "collapsed": true
   },
   "outputs": [],
   "source": [
    "train_y = train['Therapeutic Dose of Warfarin']\n",
    "train_X = train.drop('Therapeutic Dose of Warfarin', axis=1)\n",
    "test_y = test['Therapeutic Dose of Warfarin']\n",
    "test_X = test.drop('Therapeutic Dose of Warfarin', axis=1)"
   ]
  },
  {
   "cell_type": "code",
   "execution_count": 77,
   "metadata": {},
   "outputs": [
    {
     "data": {
      "text/plain": [
       "LinearRegression(copy_X=True, fit_intercept=True, n_jobs=1, normalize=False)"
      ]
     },
     "execution_count": 77,
     "metadata": {},
     "output_type": "execute_result"
    }
   ],
   "source": [
    "from sklearn.linear_model import LinearRegression\n",
    "lr = LinearRegression()\n",
    "lr.fit(train_X, train_y)"
   ]
  },
  {
   "cell_type": "code",
   "execution_count": 78,
   "metadata": {
    "collapsed": true
   },
   "outputs": [],
   "source": [
    "pred = lr.predict(test_X)"
   ]
  },
  {
   "cell_type": "code",
   "execution_count": 79,
   "metadata": {},
   "outputs": [
    {
     "data": {
      "text/plain": [
       "<matplotlib.text.Text at 0x12014ab00>"
      ]
     },
     "execution_count": 79,
     "metadata": {},
     "output_type": "execute_result"
    },
    {
     "data": {
      "image/png": "[encoded data removed]",
      "text/plain": [
       "<matplotlib.figure.Figure at 0x1200315f8>"
      ]
     },
     "metadata": {},
     "output_type": "display_data"
    }
   ],
   "source": [
    "g = sns.regplot(test_y, pred, fit_reg=False)\n",
    "g.set_xlabel(\"actual\")\n",
    "g.set_ylabel(\"predicted\")\n",
    "g.set_xlim(left=-1, right=90)\n",
    "g.set_ylim(bottom = -1, top=90)\n",
    "line = plt.plot(range(0, 90), label=\"Perfect Prediction\")\n",
    "plt.legend(bbox_to_anchor=(1.05, 1), loc=2, borderaxespad=0.)\n",
    "g.set_title(\"Linear Regression (Ordinary Least Squares)\\nActual vs. Predicted\\nTherapeutic Warfarin Dose\")"
   ]
  },
  {
   "cell_type": "code",
   "execution_count": 80,
   "metadata": {},
   "outputs": [
    {
     "name": "stdout",
     "output_type": "stream",
     "text": [
      "R2 coefficient: 0.401175644138838\n"
     ]
    }
   ],
   "source": [
    "lr_score = lr.score(test_X, test_y)\n",
    "print(\"R2 coefficient: {}\".format(lr_score))"
   ]
  },
  {
   "cell_type": "markdown",
   "metadata": {},
   "source": [
    "## Linear Regression (ElasticNet)"
   ]
  },
  {
   "cell_type": "code",
   "execution_count": 81,
   "metadata": {},
   "outputs": [
    {
     "data": {
      "text/plain": [
       "ElasticNet(alpha=1, copy_X=True, fit_intercept=True, l1_ratio=1,\n",
       "      max_iter=1000, normalize=False, positive=False, precompute=False,\n",
       "      random_state=0, selection='cyclic', tol=0.0001, warm_start=False)"
      ]
     },
     "execution_count": 81,
     "metadata": {},
     "output_type": "execute_result"
    }
   ],
   "source": [
    "from sklearn.linear_model import ElasticNet\n",
    "en = ElasticNet(alpha=1, l1_ratio=1, random_state=0)\n",
    "en.fit(train_X, train_y)"
   ]
  },
  {
   "cell_type": "code",
   "execution_count": 82,
   "metadata": {
    "collapsed": true
   },
   "outputs": [],
   "source": [
    "pred_en = en.predict(test_X)"
   ]
  },
  {
   "cell_type": "code",
   "execution_count": 83,
   "metadata": {
    "scrolled": false
   },
   "outputs": [
    {
     "data": {
      "text/plain": [
       "<matplotlib.text.Text at 0x121f21128>"
      ]
     },
     "execution_count": 83,
     "metadata": {},
     "output_type": "execute_result"
    },
    {
     "data": {
      "image/png": "[encoded data removed]",
      "text/plain": [
       "<matplotlib.figure.Figure at 0x11f0b0470>"
      ]
     },
     "metadata": {},
     "output_type": "display_data"
    }
   ],
   "source": [
    "g = sns.regplot(test_y, pred_en, fit_reg=False)\n",
    "g.set_xlabel(\"actual\")\n",
    "g.set_ylabel(\"predicted\")\n",
    "g.set_xlim(left=-1, right=90)\n",
    "g.set_ylim(bottom=-1, top=90)\n",
    "line = plt.plot(range(0, 90), label=\"Perfect Prediction\")\n",
    "plt.legend(bbox_to_anchor=(1.05, 1), loc=2, borderaxespad=0.)\n",
    "g.set_title(\"Linear Regression (ElasticNet)\\nActual vs. Predicted\\nTherapeutic Warfarin Dose\")"
   ]
  },
  {
   "cell_type": "code",
   "execution_count": 84,
   "metadata": {
    "scrolled": true
   },
   "outputs": [
    {
     "name": "stdout",
     "output_type": "stream",
     "text": [
      "R2 coefficient: 0.23987573280220828\n"
     ]
    }
   ],
   "source": [
    "en_score = en.score(test_X, test_y)\n",
    "print(\"R2 coefficient: {}\".format(en_score))"
   ]
  },
  {
   "cell_type": "markdown",
   "metadata": {},
   "source": [
    "Oddly, this performed *worse* than ordinary least squares. We can try tuning the alpha parameter. "
   ]
  },
  {
   "cell_type": "code",
   "execution_count": 85,
   "metadata": {
    "collapsed": true
   },
   "outputs": [],
   "source": [
    "alphas = np.arange(0.01, 1.1, 0.01)\n",
    "l1s = np.arange(0.1, 1.1, 0.1)"
   ]
  },
  {
   "cell_type": "code",
   "execution_count": 86,
   "metadata": {
    "collapsed": true
   },
   "outputs": [],
   "source": [
    "models = []\n",
    "scores = []\n",
    "\n",
    "for a in alphas:\n",
    "    for l1 in l1s: \n",
    "        en_model = ElasticNet(alpha=a, l1_ratio=l1, random_state=0).fit(train_X, train_y)\n",
    "        score = en_model.score(test_X, test_y)\n",
    "        models.append(en_model)\n",
    "        scores.append(score)"
   ]
  },
  {
   "cell_type": "code",
   "execution_count": 87,
   "metadata": {
    "collapsed": true
   },
   "outputs": [],
   "source": [
    "best_score_idx = np.argmax(scores)"
   ]
  },
  {
   "cell_type": "code",
   "execution_count": 88,
   "metadata": {},
   "outputs": [
    {
     "data": {
      "text/plain": [
       "ElasticNet(alpha=0.02, copy_X=True, fit_intercept=True, l1_ratio=1.0,\n",
       "      max_iter=1000, normalize=False, positive=False, precompute=False,\n",
       "      random_state=0, selection='cyclic', tol=0.0001, warm_start=False)"
      ]
     },
     "execution_count": 88,
     "metadata": {},
     "output_type": "execute_result"
    }
   ],
   "source": [
    "models[best_score_idx]"
   ]
  },
  {
   "cell_type": "code",
   "execution_count": 89,
   "metadata": {
    "collapsed": true
   },
   "outputs": [],
   "source": [
    "best_pred = models[best_score_idx].predict(test_X)"
   ]
  },
  {
   "cell_type": "code",
   "execution_count": 90,
   "metadata": {
    "scrolled": false
   },
   "outputs": [
    {
     "data": {
      "text/plain": [
       "<matplotlib.text.Text at 0x1221450f0>"
      ]
     },
     "execution_count": 90,
     "metadata": {},
     "output_type": "execute_result"
    },
    {
     "data": {
      "image/png": "[encoded data removed]",
      "text/plain": [
       "<matplotlib.figure.Figure at 0x1221b1f98>"
      ]
     },
     "metadata": {},
     "output_type": "display_data"
    }
   ],
   "source": [
    "g = sns.regplot(test_y, best_pred, fit_reg=False)\n",
    "g.set_xlim(left=-1, right=90)\n",
    "g.set_ylim(bottom=-1, top=90)\n",
    "line = plt.plot(range(0, 90), label=\"Perfect Prediction\")\n",
    "plt.legend(bbox_to_anchor=(1.05, 1), loc=2, borderaxespad=0.)\n",
    "g.set_xlabel(\"actual\")\n",
    "g.set_ylabel(\"predicted\")\n",
    "g.set_title(\"Linear Regression (ElasticNet)\\nActual vs. Predicted\\nTherapeutic Warfarin Dose\")"
   ]
  },
  {
   "cell_type": "code",
   "execution_count": 91,
   "metadata": {},
   "outputs": [
    {
     "name": "stdout",
     "output_type": "stream",
     "text": [
      "R2 coefficient: 0.3980401824963078\n"
     ]
    }
   ],
   "source": [
    "best_score = scores[best_score_idx]\n",
    "print(\"R2 coefficient: {}\".format(best_score))"
   ]
  },
  {
   "cell_type": "markdown",
   "metadata": {},
   "source": [
    "After tuning, ElasticNet performed the same as ordinary least squares regression.\n",
    "\n",
    "<br>\n",
    "<br>\n",
    "\n",
    "### Tuning SVM C-soft margin parameter\n",
    "Now, let's try SVM to classify patients with to have high or low doses of warfarin"
   ]
  },
  {
   "cell_type": "code",
   "execution_count": 92,
   "metadata": {
    "collapsed": true
   },
   "outputs": [],
   "source": [
    "warf_df[\"Dose_Type_encoded\"] = raw_df[\"Dose Type\"].apply(lambda x: 1 if x == \"High\" else 0)"
   ]
  },
  {
   "cell_type": "code",
   "execution_count": 93,
   "metadata": {},
   "outputs": [
    {
     "name": "stdout",
     "output_type": "stream",
     "text": [
      "4560 1140\n"
     ]
    }
   ],
   "source": [
    "train, test = train_test_split(warf_df, test_size=0.2)\n",
    "print(len(train), len(test))"
   ]
  },
  {
   "cell_type": "code",
   "execution_count": 94,
   "metadata": {
    "collapsed": true
   },
   "outputs": [],
   "source": [
    "train_y = train['Dose_Type_encoded']\n",
    "train_X = train.drop(['Therapeutic Dose of Warfarin', 'Dose_Type_encoded'], axis=1)\n",
    "test_y = test['Dose_Type_encoded']\n",
    "test_X = test.drop(['Therapeutic Dose of Warfarin', 'Dose_Type_encoded'], axis=1)"
   ]
  },
  {
   "cell_type": "code",
   "execution_count": 95,
   "metadata": {
    "collapsed": true
   },
   "outputs": [],
   "source": [
    "from sklearn.svm import SVC\n",
    "svc = SVC(C=0.1, kernel='rbf')"
   ]
  },
  {
   "cell_type": "code",
   "execution_count": 96,
   "metadata": {},
   "outputs": [
    {
     "data": {
      "text/plain": [
       "SVC(C=0.1, cache_size=200, class_weight=None, coef0=0.0,\n",
       "  decision_function_shape=None, degree=3, gamma='auto', kernel='rbf',\n",
       "  max_iter=-1, probability=False, random_state=None, shrinking=True,\n",
       "  tol=0.001, verbose=False)"
      ]
     },
     "execution_count": 96,
     "metadata": {},
     "output_type": "execute_result"
    }
   ],
   "source": [
    "svc.fit(train_X, train_y)"
   ]
  },
  {
   "cell_type": "code",
   "execution_count": 97,
   "metadata": {
    "collapsed": true
   },
   "outputs": [],
   "source": [
    "svc_pred = svc.predict(test_X)"
   ]
  },
  {
   "cell_type": "code",
   "execution_count": 98,
   "metadata": {
    "collapsed": true
   },
   "outputs": [],
   "source": [
    "high_total = test_y[test_y == 1].count()\n",
    "low_total = test_y[test_y == 0].count()"
   ]
  },
  {
   "cell_type": "code",
   "execution_count": 99,
   "metadata": {
    "collapsed": true
   },
   "outputs": [],
   "source": [
    "tp = sum((test_y == 1) & (svc_pred == 1))\n",
    "fp = sum((test_y == 0) & (svc_pred == 1))\n",
    "tn = sum((test_y == 0) & (svc_pred == 0))\n",
    "fn = sum((test_y == 1) & (svc_pred == 0))"
   ]
  },
  {
   "cell_type": "code",
   "execution_count": 100,
   "metadata": {
    "collapsed": true
   },
   "outputs": [],
   "source": [
    "from sklearn.metrics import confusion_matrix\n",
    "conf_df = pd.DataFrame([[tp, tn], [fp, fn]], columns=[\"High\", \"Low\"], index=[\"True\", \"False\"])"
   ]
  },
  {
   "cell_type": "code",
   "execution_count": 101,
   "metadata": {},
   "outputs": [
    {
     "data": {
      "image/png": "[encoded data removed]",
      "text/plain": [
       "<matplotlib.figure.Figure at 0x120023f60>"
      ]
     },
     "metadata": {},
     "output_type": "display_data"
    }
   ],
   "source": [
    "sns.set(font_scale=1.5)\n",
    "fig, ax = plt.subplots()\n",
    "sns.heatmap(conf_df, annot=True, fmt=\"d\", linewidths=4, ax=ax)\n",
    "ax.xaxis.tick_top()"
   ]
  },
  {
   "cell_type": "code",
   "execution_count": 102,
   "metadata": {},
   "outputs": [
    {
     "name": "stdout",
     "output_type": "stream",
     "text": [
      "Prediction score: 0.6877192982456141\n"
     ]
    }
   ],
   "source": [
    "svc_score = svc.score(test_X, test_y)\n",
    "print(\"Prediction score: {}\".format(svc_score))"
   ]
  },
  {
   "cell_type": "code",
   "execution_count": 103,
   "metadata": {
    "collapsed": true
   },
   "outputs": [],
   "source": [
    "from sklearn.metrics import roc_curve, auc\n",
    "\n",
    "roc = roc_curve(test_y, svc.decision_function(test_X), pos_label=None, sample_weight=None, drop_intermediate=True)\n",
    "auc_score = auc(roc[0], roc[1])"
   ]
  },
  {
   "cell_type": "code",
   "execution_count": 104,
   "metadata": {},
   "outputs": [
    {
     "data": {
      "text/plain": [
       "<matplotlib.text.Text at 0x122423c18>"
      ]
     },
     "execution_count": 104,
     "metadata": {},
     "output_type": "execute_result"
    },
    {
     "data": {
      "image/png": "[encoded data removed]",
      "text/plain": [
       "<matplotlib.figure.Figure at 0x10bbe97b8>"
      ]
     },
     "metadata": {},
     "output_type": "display_data"
    }
   ],
   "source": [
    "ax1 = sns.regplot(x=roc[0], y=roc[1], fit_reg=False)\n",
    "ax1.set_xlim(left=-0.05, right=1)\n",
    "ax1.set_ylim(bottom=-0.05, top=1)\n",
    "ax1.set_xlabel(\"False Positive Rate\")\n",
    "ax1.set_ylabel(\"True Positive Rate\")\n",
    "ax1.set_title(\"SVM (C={})\\nAUC = {}\".format(0.1, auc_score))"
   ]
  },
  {
   "cell_type": "markdown",
   "metadata": {},
   "source": [
    "Let's try tuning the C parameter for SVC: "
   ]
  },
  {
   "cell_type": "code",
   "execution_count": 105,
   "metadata": {
    "collapsed": true
   },
   "outputs": [],
   "source": [
    "C_params = np.arange(5, 10)\n",
    "models = []\n",
    "scores = []\n",
    "\n",
    "for c in C_params:\n",
    "    svc = SVC(C=c, kernel='rbf').fit(train_X, train_y)\n",
    "    score = svc.score(test_X, test_y)\n",
    "    models.append(svc)\n",
    "    scores.append(score)"
   ]
  },
  {
   "cell_type": "code",
   "execution_count": 106,
   "metadata": {
    "collapsed": true
   },
   "outputs": [],
   "source": [
    "best_svc_id = np.argmax(scores)"
   ]
  },
  {
   "cell_type": "code",
   "execution_count": 107,
   "metadata": {},
   "outputs": [
    {
     "data": {
      "text/plain": [
       "SVC(C=6, cache_size=200, class_weight=None, coef0=0.0,\n",
       "  decision_function_shape=None, degree=3, gamma='auto', kernel='rbf',\n",
       "  max_iter=-1, probability=False, random_state=None, shrinking=True,\n",
       "  tol=0.001, verbose=False)"
      ]
     },
     "execution_count": 107,
     "metadata": {},
     "output_type": "execute_result"
    }
   ],
   "source": [
    "best_model = models[best_svc_id]\n",
    "best_model"
   ]
  },
  {
   "cell_type": "code",
   "execution_count": 108,
   "metadata": {},
   "outputs": [
    {
     "data": {
      "text/plain": [
       "0.7131578947368421"
      ]
     },
     "execution_count": 108,
     "metadata": {},
     "output_type": "execute_result"
    }
   ],
   "source": [
    "scores[best_svc_id]"
   ]
  },
  {
   "cell_type": "code",
   "execution_count": 109,
   "metadata": {
    "collapsed": true
   },
   "outputs": [],
   "source": [
    "best_pred = best_model.predict(test_X)"
   ]
  },
  {
   "cell_type": "code",
   "execution_count": 110,
   "metadata": {
    "collapsed": true
   },
   "outputs": [],
   "source": [
    "tp = sum((test_y == 1) & (best_pred == 1))\n",
    "fp = sum((test_y == 0) & (best_pred == 1))\n",
    "tn = sum((test_y == 0) & (best_pred == 0))\n",
    "fn = sum((test_y == 1) & (best_pred == 0))"
   ]
  },
  {
   "cell_type": "code",
   "execution_count": 111,
   "metadata": {
    "collapsed": true
   },
   "outputs": [],
   "source": [
    "conf_df = pd.DataFrame([[tp, tn], [fp, fn]], columns=[\"High\", \"Low\"], index=[\"True\", \"False\"])"
   ]
  },
  {
   "cell_type": "code",
   "execution_count": 112,
   "metadata": {},
   "outputs": [
    {
     "data": {
      "image/png": "[encoded data removed]",
      "text/plain": [
       "<matplotlib.figure.Figure at 0x120167d30>"
      ]
     },
     "metadata": {},
     "output_type": "display_data"
    }
   ],
   "source": [
    "sns.set(font_scale=1.5)\n",
    "fig, ax = plt.subplots()\n",
    "sns.heatmap(conf_df, annot=True, fmt=\"d\", linewidths=4, ax=ax)\n",
    "ax.xaxis.tick_top()"
   ]
  },
  {
   "cell_type": "code",
   "execution_count": 113,
   "metadata": {},
   "outputs": [],
   "source": [
    "from sklearn.metrics import roc_curve, auc\n",
    "\n",
    "best_model_roc = roc_curve(test_y, best_model.decision_function(test_X), pos_label=None, sample_weight=None, drop_intermediate=True)\n",
    "best_model_auc = auc(best_model_roc[0], best_model_roc[1])"
   ]
  },
  {
   "cell_type": "code",
   "execution_count": 114,
   "metadata": {},
   "outputs": [
    {
     "data": {
      "text/plain": [
       "<matplotlib.text.Text at 0x12272ee48>"
      ]
     },
     "execution_count": 114,
     "metadata": {},
     "output_type": "execute_result"
    },
    {
     "data": {
      "image/png": "[encoded data removed]",
      "text/plain": [
       "<matplotlib.figure.Figure at 0x121f41fd0>"
      ]
     },
     "metadata": {},
     "output_type": "display_data"
    }
   ],
   "source": [
    "ax2 = sns.regplot(x=best_model_roc[0], y=best_model_roc[1], fit_reg=False)\n",
    "ax2.set_xlim(left=-0.05, right=1)\n",
    "ax2.set_ylim(bottom=-0.05, top=1)\n",
    "ax2.set_xlabel(\"False Positive Rate\")\n",
    "ax2.set_ylabel(\"True Positive Rate\")\n",
    "ax2.set_title(\"SVM (C={})\\nAuc = {}\".format(best_model.get_params()['C'], best_model_auc))"
   ]
  },
  {
   "cell_type": "markdown",
   "metadata": {},
   "source": [
    "---\n",
    "\n",
    "# SUMMARY: \n",
    "- A/A Variant for VKORC1 is a key factor for Low Dose in Asians, whereas G/G Variant for VKORC1 is a strong indicator for High Dose in Caucasians and African Americans\n",
    "- It was difficult to train both the regression and SVM classification models to predict high doses. It may be because it has more variablity than low dose observations. \n",
    "- Even after tuning the C-soft margin parameter, the model was only able to reach up to 0.745 for AUC. "
   ]
  }
 ],
 "metadata": {
  "kernelspec": {
   "display_name": "Python 3",
   "language": "python",
   "name": "python3"
  },
  "language_info": {
   "codemirror_mode": {
    "name": "ipython",
    "version": 3
   },
   "file_extension": ".py",
   "mimetype": "text/x-python",
   "name": "python",
   "nbconvert_exporter": "python",
   "pygments_lexer": "ipython3",
   "version": "3.6.1"
  }
 },
 "nbformat": 4,
 "nbformat_minor": 2
}
